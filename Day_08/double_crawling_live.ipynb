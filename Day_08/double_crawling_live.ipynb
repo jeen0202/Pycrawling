{
 "cells": [
  {
   "cell_type": "markdown",
   "id": "dd6fd829",
   "metadata": {},
   "source": [
    "### devide and conquer\n",
    ": 분할 정복 기법"
   ]
  },
  {
   "cell_type": "code",
   "execution_count": null,
   "id": "3a8b2754",
   "metadata": {
    "scrolled": true
   },
   "outputs": [
    {
     "name": "stdout",
     "output_type": "stream",
     "text": [
      "1 HUTT 스마트 자동 유리창 창문 로봇청소기 화이트 144,500원 CNStyle123\n",
      "2 [윈드피아]가정용 업소용 사무실 스탠드 키높이 선풍기 WA-170 23,720원 스마일배송\n",
      "3 [르젠]21년형+10%쿠폰) 르젠 BLDC 저소음 선풍기 LZEF-DC02 69,800원 스마일배송\n",
      "4 [르젠]내일도착 르젠 2세대 앱연동 BLDC 선풍기 LZEF-DCW20 화이트 59,800원 CJ온스타일\n",
      "5 [대웅모닝컴](행사) 21년 신제품 대웅모닝컴 14인치 선풍기 고급형 24,900원 스마일배송\n",
      "6 [애플]에어팟프로 MWP22KH/A 252,980원 Apple공식판매점\n",
      "7 한일전기 EFe-432 가정용 사무실 한일 선풍기 써큘 47,900원 한일총판\n",
      "8 [대우]대우 에어 써큘레이터DEF-KC1020스탠드선풍기 공기순환 34,900원 스마일배송\n",
      "9 [뽀송]21년 신상)인증점 위닉스 10리터 제습기 DXTE100-KWK 199,000원 스마일배송\n",
      "10 [르젠]내일도착 르젠 2세대 앱연동 BLDC 선풍기 LZEF-DC210 그레이 59,800원 CJ온스타일\n",
      "11 [제로큐브]21년형+10%쿠폰) 고급형 써큘레이터 선풍기 리모컨 36,900원 스마일배송\n",
      "12 [일렉트로룩스]18V 무선청소기 ZB3311 AK + 4종 노즐 증정 (BEST) 149,000원 스마일배송\n",
      "13 [신일전자]신일 BLDC 에어써큘레이터 스탠드형 SIF-PC40NBK 106,900원 스마일배송\n",
      "14 [신일전자]신일 기본형 선풍기 SIF-12PNX 49,900원 SHINIL\n",
      "15 [대웅모닝컴]대웅 가정용 스탠드선풍기  신제품출시_CZ-B3978LS 24,520원 lainzone\n",
      "16 샤오미 MI 스마트 무선 선풍기 4세대 프로 중국내수용 88,500원 meetg9\n",
      "17 [애플][국내정품] 애플 에어팟 프로 무선 충전 MWP22KH/A 261,000원 신세계백화점\n",
      "18 [제로큐브]21년형+10%쿠폰)최고급형 입체회전 써큘레이터 선풍기 46,900원 스마일배송\n",
      "19 [유니맥스]스탠드 선풍기/가정용 업소용 14형 1405 특가 24,500원 (주)친구사이\n",
      "20 창문형 에어컨 WAC-1900 자동건조 제습 2년 무상A/S 359,000원 (주)더매직\n",
      "21 [애플]애플 펜슬 2세대 MU8F2KH/A 165,620원 Apple공식판매점\n",
      "22 [아트리온]초경량 스팀 핸디형다리미 ALT-1166 살균/연속분사 12,900원 쿠첸공식몰\n",
      "23 JISU 넥밴드  선풍기 무날개 선풍기/화이트 1+1 35,600원 XiaomiMark\n",
      "24 [애플]애플워치SE 44mm GPS 알루미늄 케이스 MYDT2KH/A 381,290원 Apple공식판매점\n",
      "25 [LG전자]LG 휘센 벽걸이 에어컨 SQ06BAPWCS 전국기본설치포함 582,670원 (주)와이케이지\n",
      "26 [샤오미]큐씨와이 QCY T13 TWS 블루투스 이어폰 17,900원 직구플리즈\n",
      "27 [위닉스]_위닉스 제습기 16L (DO2E160-JWK) / 1등급 361,810원 신세계몰\n",
      "28 [캐리어]ARC061VSE 전국무료배송/기본설치비포함 벽걸이 (6형) 435,000원 선인전자프라자\n",
      "29 [윈드피아]가정용 업소용 스탠드 리모컨 선풍기  인기상품145FR 36,710원 윈드피아\n",
      "30 [유닉스]메탈티 무광블랙 1600W 헤어 드라이기 UN-A1610 접이식 21,900원 스마일배송\n",
      "31 보만 초미풍 스탠드 저소음 BLDC 선풍기 BF14170W 99,000원 레브커머스\n",
      "32 [신일전자]신일 선풍기 SIF-P14PCB 스탠드형 써큘레이터형 58,440원 InoBox\n",
      "33 에어서핑 목에착 선풍기 목걸이 휴대용 넥밴드 화이트 39,800원 스마일배송\n",
      "34 [유파]내일도착 유파 선풍기/리모컨/초미풍/발터치 TSK-3528CR 29,310원 CJ온스타일\n",
      "35 [삼성전자]846L 양문형냉장고 RS84T5041M9 푸드쇼케이스 설치배송 999,000원 스마일배송\n",
      "36 [비달사순]비달사순 2000W 전문가용 헤어드라이기 VSD5129K 20,800원 스마일배송\n",
      "37 [신일전자]신일 기본형 선풍기 SIF-NH143 56,900원 SHINIL\n",
      "38 [위닉스](공식인증) 위닉스 뽀송 제습기 16리터 DO2E160-JWK 349,000원 스마일배송\n",
      "39 [엔보우]모노 탁상용 무선 휴대용 선풍기 1+1(할인 이벤트) 28,900원 엔보우\n",
      "40 [애플]애플워치SE 44mm GPS 알루미늄 케이스 MYDQ2KH/A 381,290원 Apple공식판매점\n",
      "41 [대웅모닝컴]대웅 3D 입체회전 리모컨 스탠드 써큘레이터 선풍기 38,900원 스마일배송\n",
      "42 [위니아딤채]위니아딤채 이동식에어컨 MPP07EAWC 21년형 신제품 360,050원 네고네고\n",
      "43 [위닉스]10%쿠폰)인증점 위닉스 뽀송 제습기 10L DXAH100-JWK 209,000원 스마일배송\n",
      "44 [신일전자]신일 에어 서큘레이터 SIF-FA400A BLDC모터 공기순환 120,000원 핫쇼핑플러스\n",
      "45 한경희 22000PA 흡입력 BLDC 무선청소기 HE-C287 179,000원 스마일배송\n",
      "46 [대우]대우 써큘레이터 DWF-RC410T 공기선풍기 쿠폰 19470원 19,900원 스마일배송\n",
      "47 비비딕 바퀴 개미 쥐 해충 벌레 초음파퇴치기 일반형 27,900원 아비크\n",
      "48 [큐씨와이](빠른직구) QCY T13 블루투스 무선 이어폰 화이트 17,800원 FastEzbuy\n",
      "49 에어서핑 목에 착 선풍기 휴대용 넥밴드 화이트+핑크 69,600원 인포벨홈쇼핑\n",
      "50 [대웅모닝컴]스탠드 리모컨 전자식 써큘레이터 신제품(YKR) 37,130원 lainzone\n",
      "51 [삼성전자]공식파트너 삼성 세라믹 전자레인지 MS23K3523AK 82,900원 삼성공식판매다솜\n",
      "52 HUTT 스마트 자동 유리창 창문 로봇 청소기 블랙색 144,500원 CNStyle123\n",
      "53 대우 스탠드 기계식16형 DWF-RS416A 프리미엄 34,160원 황금마켓\n",
      "54 [르젠]신제품 르젠 입체회전 BLDC 저소음 선풍기 LZDF-TR08 79,800원 스마일배송\n",
      "55 8인치 휴대용 무선 선풍기 TS-8DF45/화이트 4500mA 19,400원 스마일배송\n",
      "56 [큐씨와이]QCY T13 블루투스 무선 이어폰 화이트 2021최신형 17,800원 EZBUY_TRADE\n",
      "57 [한일전기]한일전기 EFe-492R 초미풍 리모컨 선풍기 써큘레이터 57,900원 한일총판\n",
      "58 [미디어]KPA-Q092PAA 이동식 에어컨 미디어 냉방(9평)난방(5평) 309,000원 선인전자프라자\n",
      "59 한일전기 DCF-710R 초미풍 리모컨 선풍기 써큘레이터 71,900원 한일총판\n",
      "60 [파세코]2021년형)창문형 에어컨 2S PWA-3250W 인버터 1등급 649,000원 스마일배송\n",
      "61 [윈드피아]가정용 업소용 풋터치 리모컨 선풍기 WF-148XJ-145FR 37,320원 스마일배송\n",
      "62 [대우]대우 스텐 1.5L 전기주전자 무선 커피포트 DEK-MF203 10,000원 스마일배송\n",
      "63 한일전기 EFe-510R 초미풍 리모컨 선풍기 써큘레이터 69,900원 한일총판\n",
      "64 [브라운]브라운전기면도기 시리즈9 9395cc 299,000원 브라운오랄비공식샵\n",
      "65 [윈드피아]가정용선풍기 업소용선풍기 스탠드 선풍기 WA-370블랙 21,900원 윈드피아\n",
      "66 포이포이 넥밴드선풍기무선 넥풍기 넥선풍기 목풍기 19,800원 바니로미\n",
      "67 [블루아이디]넥밴드 휴대용선풍기 목걸이 핸즈프리 BI-NF5 블랙 29,800원 스마일배송\n",
      "68 [캐리어]AWA07VOOS 창문형에어컨 인버터 1등급 7평형 UV살균 532,000원 선인전자프라자\n"
     ]
    }
   ],
   "source": [
    "import requests\n",
    "from bs4 import BeautifulSoup\n",
    "res = requests.get('http://corners.gmarket.co.kr/Bestsellers?viewType=G&groupCode=G06',headers={'User-Agent':'Mozilla/5.0'})\n",
    "soup = BeautifulSoup(res.content, 'html.parser')\n",
    "# WEb에서 list data crawling\n",
    "bestLists = soup.select('div.best-list')\n",
    "products = bestLists[1].select('ul>li')\n",
    "for index,product in enumerate(products) :\n",
    "    #listData에서 data Crawling\n",
    "    title = product.select_one('a.itemname')\n",
    "    price = product.select_one('div.s-price>strong').get_text()\n",
    "    res_info = requests.get(title['href'])\n",
    "    soup_info = BeautifulSoup(res_info.content, 'html.parser')    \n",
    "    provider_info = soup_info.select_one('span.text__seller > a')\n",
    "    print(index+1,title.get_text(), price, provider_info.get_text() )\n",
    "    "
   ]
  },
  {
   "cell_type": "code",
   "execution_count": null,
   "id": "ab226a79",
   "metadata": {
    "scrolled": true
   },
   "outputs": [],
   "source": [
    "import requests\n",
    "from bs4 import BeautifulSoup\n",
    "headers = {'User-Agent' : 'Mozilla/5.0 (Macintosh; Intel Mac OS X 11_0_1) AppleWebKit/537.36 (KHTML, like Gecko) Chrome/89.0.4389.82 Safari/537.36'}\n",
    "\n",
    "res = requests.get('https://www.coupang.com/np/categories/178255',headers = headers)\n",
    "soup = BeautifulSoup(res.content, 'html.parser')\n",
    "#list data crawling\n",
    "data = soup.select('#searchOptionForm > div > div > div.newcx-main > div.newcx-list')\n",
    "#list 내부의 항목 data crawling\n",
    "products = data[0].select('a.baby-product-link')\n",
    "\n",
    "for index,product in enumerate(products) :\n",
    "    \n",
    "    title = product.select_one('dd > div.name').get_text().strip()\n",
    "    price = product.select_one('div.price > em > strong').get_text().strip()\n",
    "    res_info = requests.get('http://coupang.com'+product['href'])\n",
    "    soup_info = BeautifulSoup(res_info.content, 'html.parser')\n",
    "    \n",
    "    print(index+1, title,price,product['href'])"
   ]
  },
  {
   "cell_type": "code",
   "execution_count": null,
   "id": "0323870d",
   "metadata": {},
   "outputs": [],
   "source": [
    "#\\35 641456452 > a"
   ]
  }
 ],
 "metadata": {
  "kernelspec": {
   "display_name": "Python 3",
   "language": "python",
   "name": "python3"
  },
  "language_info": {
   "codemirror_mode": {
    "name": "ipython",
    "version": 3
   },
   "file_extension": ".py",
   "mimetype": "text/x-python",
   "name": "python",
   "nbconvert_exporter": "python",
   "pygments_lexer": "ipython3",
   "version": "3.8.8"
  }
 },
 "nbformat": 4,
 "nbformat_minor": 5
}
