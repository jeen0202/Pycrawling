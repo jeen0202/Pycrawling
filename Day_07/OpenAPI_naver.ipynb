{
 "cells": [
  {
   "cell_type": "code",
   "execution_count": 27,
   "id": "3acbc3e7",
   "metadata": {},
   "outputs": [],
   "source": [
    "import requests\n",
    "from NaverAPI import naver_key\n",
    "client_key, client_secret = naver_key()\n",
    "\n",
    "naver_open_api = 'https://openapi.naver.com/v1/search/shop.json?query=graphiccard'\n",
    "header_params = {\"X-Naver-Client-Id\":client_key,\"X-Naver-Client-Secret\":client_secret}\n",
    "res = requests.get(naver_open_api, headers=header_params)"
   ]
  }
 ],
 "metadata": {
  "kernelspec": {
   "display_name": "Python 3",
   "language": "python",
   "name": "python3"
  },
  "language_info": {
   "codemirror_mode": {
    "name": "ipython",
    "version": 3
   },
   "file_extension": ".py",
   "mimetype": "text/x-python",
   "name": "python",
   "nbconvert_exporter": "python",
   "pygments_lexer": "ipython3",
   "version": "3.8.8"
  }
 },
 "nbformat": 4,
 "nbformat_minor": 5
}
