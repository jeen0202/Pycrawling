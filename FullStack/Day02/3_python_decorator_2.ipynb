{
 "cells": [
  {
   "cell_type": "markdown",
   "metadata": {},
   "source": [
    "<div class=\"alert alert-block\" style=\"border: 1px solid #FFB300;background-color:#F9FBE7;\">\n",
    "<font size=\"3em\" style=\"font-weight:bold;color:#3f8dbf;\">도전 과제</font><br>\n",
    "다음 그림에 있는 HTML 웹페이지 태그를 붙여주는 데코레이터 만들기<br>\n",
    "해당 데코레이터를 사용해서 안녕하세요 출력해보기<br>\n",
    "<img src=\"https://www.fun-coding.org/00_Images/tag.png\" />\n",
    "</div>"
   ]
  },
  {
   "cell_type": "code",
   "execution_count": 29,
   "metadata": {},
   "outputs": [],
   "source": [
    "def mark_bold(function):\n",
    "    def wrapper(*args, **kwargs):\n",
    "        return '<b>' + function(*args,**kwargs) + '<b>'\n",
    "    return wrapper"
   ]
  },
  {
   "cell_type": "code",
   "execution_count": 34,
   "metadata": {},
   "outputs": [],
   "source": [
    "def mark_italic(function):\n",
    "    def wrapper(*args, **kwargs):\n",
    "        return '<i>' + function(*args,**kwargs) + '<i>'\n",
    "    return wrapper"
   ]
  },
  {
   "cell_type": "code",
   "execution_count": 36,
   "metadata": {},
   "outputs": [],
   "source": [
    "@mark_bold\n",
    "@mark_italic\n",
    "def hello(args) :\n",
    "    return(args)"
   ]
  },
  {
   "cell_type": "code",
   "execution_count": 37,
   "metadata": {},
   "outputs": [
    {
     "name": "stdout",
     "output_type": "stream",
     "text": [
      "<b><i>안녕하세요<i><b>\n"
     ]
    }
   ],
   "source": [
    "print(hello(\"안녕하세요\"))"
   ]
  },
  {
   "cell_type": "code",
   "execution_count": 7,
   "metadata": {},
   "outputs": [
    {
     "data": {
      "text/html": [
       "<b>안녕</b>\n",
       "<i>안녕</i>\n",
       "<b><i>안녕</i></b>\n"
      ],
      "text/plain": [
       "<IPython.core.display.HTML object>"
      ]
     },
     "metadata": {},
     "output_type": "display_data"
    }
   ],
   "source": [
    "%%html\n",
    "<b>안녕</b>\n",
    "<i>안녕</i>\n",
    "<b><i>안녕</i></b>"
   ]
  },
  {
   "cell_type": "markdown",
   "metadata": {},
   "source": [
    "### Method Decorator\n",
    "* 클래스의 method에도 데코레이터 적용 가능\n",
    "  - 클래스 method는 첫 파라미터가 self 이므로 이 부분을 데코레이터 작성시에 포함시켜야 함"
   ]
  },
  {
   "cell_type": "code",
   "execution_count": null,
   "metadata": {},
   "outputs": [],
   "source": []
  },
  {
   "cell_type": "code",
   "execution_count": 1,
   "metadata": {},
   "outputs": [],
   "source": [
    "# 데코레이터 작성하기 (for method)\n",
    "def h1_tag(function):\n",
    "    def func_wrapper(self, *args, **kwargs):            # <--- self 를 무조건 첫 파라미터로 넣어야 메서드에 적용가능\n",
    "        return \"<h1>{0}</h1>\".format(function(self, *args, **kwargs))  # <--- function 함수에도 self 를 넣어야 함\n",
    "    return func_wrapper"
   ]
  },
  {
   "cell_type": "code",
   "execution_count": 2,
   "metadata": {},
   "outputs": [],
   "source": [
    "# 클래스 선언시 메서드에 데코레이터 적용하기\n",
    "class Person:\n",
    "    def __init__(self, first_name, last_name):\n",
    "        self.first_name = first_name\n",
    "        self.last_name = last_name\n",
    "\n",
    "    @h1_tag\n",
    "    def get_name(self):\n",
    "        return self.first_name + ' ' + self.last_name"
   ]
  },
  {
   "cell_type": "code",
   "execution_count": 3,
   "metadata": {},
   "outputs": [
    {
     "name": "stdout",
     "output_type": "stream",
     "text": [
      "<h1>Lee Dave</h1>\n"
     ]
    }
   ],
   "source": [
    "# 데코레이터 적용 확인해보기\n",
    "davelee = Person('Lee', 'Dave')\n",
    "print(davelee.get_name())"
   ]
  },
  {
   "cell_type": "markdown",
   "metadata": {},
   "source": [
    "<div class=\"alert alert-block\" style=\"border: 1px solid #FFB300;background-color:#F9FBE7;\">\n",
    "<font size=\"3em\" style=\"font-weight:bold;color:#3f8dbf;\">파이썬 format() 함수 이해하기</font><br>\n",
    "다음 코드 실행 결과 예상하고, 확인하기\n",
    "</div>"
   ]
  },
  {
   "cell_type": "code",
   "execution_count": 4,
   "metadata": {
    "scrolled": true
   },
   "outputs": [
    {
     "name": "stdout",
     "output_type": "stream",
     "text": [
      "10 100\n"
     ]
    }
   ],
   "source": [
    "print('{} {}'.format(10, 100))"
   ]
  },
  {
   "cell_type": "code",
   "execution_count": 5,
   "metadata": {},
   "outputs": [
    {
     "name": "stdout",
     "output_type": "stream",
     "text": [
      "10 20 10 100\n"
     ]
    }
   ],
   "source": [
    "print('{0} {2} {0} {1}'.format(10, 100, 20))"
   ]
  },
  {
   "cell_type": "code",
   "execution_count": 6,
   "metadata": {},
   "outputs": [
    {
     "name": "stdout",
     "output_type": "stream",
     "text": [
      "100 10\n"
     ]
    }
   ],
   "source": [
    "print('{1} {0}'.format(10, 100))"
   ]
  },
  {
   "cell_type": "code",
   "execution_count": 7,
   "metadata": {},
   "outputs": [
    {
     "name": "stdout",
     "output_type": "stream",
     "text": [
      "aaaa cccc\n"
     ]
    }
   ],
   "source": [
    "print('{aa} {bb}'.format(aa = 'aaaa', bb = 'cccc'))"
   ]
  },
  {
   "cell_type": "markdown",
   "metadata": {},
   "source": [
    "### 파라미터가 있는 Decorator 만들기 (심화)\n",
    "* decorator에 파라미터를 추가 가능"
   ]
  },
  {
   "cell_type": "code",
   "execution_count": 8,
   "metadata": {},
   "outputs": [],
   "source": [
    "# 중첩 함수의 하나 더 깊게 두어 생성\n",
    "def decorator1(num):\n",
    "    def outer_wrapper(function):\n",
    "        def innter_wrapper(*args, **kwargs):\n",
    "            print('decorator1 {}'.format(num))\n",
    "            return function(*args, **kwargs)\n",
    "        return innter_wrapper\n",
    "    return outer_wrapper"
   ]
  },
  {
   "cell_type": "code",
   "execution_count": 9,
   "metadata": {},
   "outputs": [],
   "source": [
    "def print_hello():\n",
    "    print ('hello')"
   ]
  },
  {
   "cell_type": "code",
   "execution_count": 10,
   "metadata": {},
   "outputs": [
    {
     "name": "stdout",
     "output_type": "stream",
     "text": [
      "decorator1 1\n",
      "hello\n"
     ]
    }
   ],
   "source": [
    "# 위와 같이 작성하면, 다음과 같이 호출할 수 있다.\n",
    "print_hello2 = decorator1(1)(print_hello)\n",
    "print_hello2()"
   ]
  },
  {
   "cell_type": "code",
   "execution_count": 154,
   "metadata": {},
   "outputs": [],
   "source": [
    "# 이를 데코레이터로 표현하면 다음과 같다.\n",
    "@decorator1(1)\n",
    "def print_hello():\n",
    "    print('hello')"
   ]
  },
  {
   "cell_type": "code",
   "execution_count": 155,
   "metadata": {},
   "outputs": [
    {
     "name": "stdout",
     "output_type": "stream",
     "text": [
      "decorator1 1\n",
      "hello\n"
     ]
    }
   ],
   "source": [
    "print_hello()"
   ]
  },
  {
   "cell_type": "code",
   "execution_count": 156,
   "metadata": {},
   "outputs": [],
   "source": [
    "# 이를 데코레이터로 표현하면 다음과 같다.(이렇게 써도 됨)\n",
    "@decorator1(num=2)\n",
    "def print_hello():\n",
    "    print('hello')"
   ]
  },
  {
   "cell_type": "code",
   "execution_count": 157,
   "metadata": {
    "scrolled": true
   },
   "outputs": [
    {
     "name": "stdout",
     "output_type": "stream",
     "text": [
      "decorator1 2\n",
      "hello\n"
     ]
    }
   ],
   "source": [
    "print_hello()"
   ]
  },
  {
   "cell_type": "markdown",
   "metadata": {},
   "source": [
    "<div class=\"alert alert-block\" style=\"border: 1px solid #FFB300;background-color:#F9FBE7;\">\n",
    "<font size=\"3em\" style=\"font-weight:bold;color:#3f8dbf;\">도전 과제</font><br>\n",
    "다음 그림에 있는 HTML 웹페이지 태그와 같이 태그 이름을 넣으면 HTML 문법에 맞게 출력해주는 데코레이터를 만들기<br>\n",
    "해당 데코레이터를 사용해서 b, i, h1, h2, h3, h4, h5, h6, center 태그를 리스트로 넣어서 안녕하세요 출력해보기<br>\n",
    "\n",
    "```python\n",
    "@mark_html('b')\n",
    "def print_title(title):\n",
    "    return title\n",
    "print ('잔재미코딩 Dave Lee 입니다.')\n",
    "출력:\n",
    "    <b>잔재미코딩 Dave Lee 입니다.</b>    \n",
    "```\n",
    "</div>"
   ]
  },
  {
   "cell_type": "code",
   "execution_count": 24,
   "metadata": {},
   "outputs": [],
   "source": [
    "def mark_html(tag):\n",
    "    def outer_wrapper(function):\n",
    "        def inner_wrapper(*args,**kwargs):            \n",
    "            return f'<{tag}>{function(*args,**kwargs)}</{tag}>'\n",
    "        return inner_wrapper\n",
    "    return outer_wrapper"
   ]
  },
  {
   "cell_type": "code",
   "execution_count": 26,
   "metadata": {},
   "outputs": [
    {
     "name": "stdout",
     "output_type": "stream",
     "text": [
      "<a>일단코딩 sejing Kim 입니다.</a>\n"
     ]
    }
   ],
   "source": [
    "@mark_html('a')\n",
    "def print_title(title):\n",
    "    return title\n",
    "print (print_title('일단코딩 sejing Kim 입니다.'))\n"
   ]
  }
 ],
 "metadata": {
  "kernelspec": {
   "display_name": "Python 3",
   "language": "python",
   "name": "python3"
  },
  "language_info": {
   "codemirror_mode": {
    "name": "ipython",
    "version": 3
   },
   "file_extension": ".py",
   "mimetype": "text/x-python",
   "name": "python",
   "nbconvert_exporter": "python",
   "pygments_lexer": "ipython3",
   "version": "3.8.8"
  }
 },
 "nbformat": 4,
 "nbformat_minor": 2
}
