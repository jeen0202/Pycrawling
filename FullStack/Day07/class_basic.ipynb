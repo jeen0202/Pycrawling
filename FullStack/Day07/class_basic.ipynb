{
 "cells": [
  {
   "cell_type": "code",
   "execution_count": 1,
   "id": "9fc331a7",
   "metadata": {},
   "outputs": [],
   "source": [
    "class Quadrangle:\n",
    "    pass"
   ]
  },
  {
   "cell_type": "code",
   "execution_count": 2,
   "id": "8bf99e05",
   "metadata": {},
   "outputs": [],
   "source": [
    "class SingleWord:\n",
    "    pass"
   ]
  },
  {
   "cell_type": "code",
   "execution_count": 5,
   "id": "e41a793e",
   "metadata": {
    "scrolled": true
   },
   "outputs": [
    {
     "data": {
      "text/plain": [
       "['__class__',\n",
       " '__delattr__',\n",
       " '__dict__',\n",
       " '__dir__',\n",
       " '__doc__',\n",
       " '__eq__',\n",
       " '__format__',\n",
       " '__ge__',\n",
       " '__getattribute__',\n",
       " '__gt__',\n",
       " '__hash__',\n",
       " '__init__',\n",
       " '__init_subclass__',\n",
       " '__le__',\n",
       " '__lt__',\n",
       " '__module__',\n",
       " '__ne__',\n",
       " '__new__',\n",
       " '__reduce__',\n",
       " '__reduce_ex__',\n",
       " '__repr__',\n",
       " '__setattr__',\n",
       " '__sizeof__',\n",
       " '__str__',\n",
       " '__subclasshook__',\n",
       " '__weakref__']"
      ]
     },
     "execution_count": 5,
     "metadata": {},
     "output_type": "execute_result"
    }
   ],
   "source": [
    "dir(SingleWord)"
   ]
  },
  {
   "cell_type": "code",
   "execution_count": 7,
   "id": "038644bf",
   "metadata": {},
   "outputs": [
    {
     "data": {
      "text/plain": [
       "__main__.Quadrangle"
      ]
     },
     "execution_count": 7,
     "metadata": {},
     "output_type": "execute_result"
    }
   ],
   "source": [
    "square = Quadrangle()\n",
    "type(square)"
   ]
  },
  {
   "cell_type": "code",
   "execution_count": 18,
   "id": "81d32f71",
   "metadata": {},
   "outputs": [],
   "source": [
    "class sejing:\n",
    "    def __init__(self,width,height,color):\n",
    "        self.width = width\n",
    "        self.height = height\n",
    "        self.color = color\n",
    "    def show_all(self):\n",
    "        print(f'width : {self.width}, height: {self.height}, color: {self.color}')\n",
    "    def get_area(self):\n",
    "        return self.width * self.height\n",
    "    def set_area(self,width,height):\n",
    "        self.width = width\n",
    "        self.height = height"
   ]
  },
  {
   "cell_type": "code",
   "execution_count": 19,
   "id": "cd8b720b",
   "metadata": {},
   "outputs": [
    {
     "name": "stdout",
     "output_type": "stream",
     "text": [
      "width : 10, height: 5, color: red\n",
      "width : 7, height: 7, color: blue\n"
     ]
    }
   ],
   "source": [
    "sqr1 = sejing(10,5,'red')\n",
    "sqr2 = sejing(7,7,'blue')\n",
    "sqr1.show_all()\n",
    "sqr2.show_all()\n"
   ]
  },
  {
   "cell_type": "code",
   "execution_count": 20,
   "id": "cec9aa97",
   "metadata": {},
   "outputs": [
    {
     "data": {
      "text/plain": [
       "25"
      ]
     },
     "execution_count": 20,
     "metadata": {},
     "output_type": "execute_result"
    }
   ],
   "source": [
    "sqr1.set_area(5,5)\n",
    "sqr1.get_area()"
   ]
  },
  {
   "cell_type": "code",
   "execution_count": null,
   "id": "f3b0a080",
   "metadata": {},
   "outputs": [],
   "source": []
  }
 ],
 "metadata": {
  "kernelspec": {
   "display_name": "Python 3",
   "language": "python",
   "name": "python3"
  },
  "language_info": {
   "codemirror_mode": {
    "name": "ipython",
    "version": 3
   },
   "file_extension": ".py",
   "mimetype": "text/x-python",
   "name": "python",
   "nbconvert_exporter": "python",
   "pygments_lexer": "ipython3",
   "version": "3.8.8"
  }
 },
 "nbformat": 4,
 "nbformat_minor": 5
}
