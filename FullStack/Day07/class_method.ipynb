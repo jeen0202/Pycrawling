{
 "cells": [
  {
   "cell_type": "markdown",
   "id": "fa66eb1b",
   "metadata": {},
   "source": [
    "#### 클래스 변수와 인스턴스 변수"
   ]
  },
  {
   "cell_type": "markdown",
   "id": "58fb5d45",
   "metadata": {},
   "source": [
    "- 클래스 변수 : 클래스 정의에서 메서드 밖에 존재\n",
    "    * 해당 클래스를 사용하는 모두에게 공용으로 사용\n",
    "    * 클래스 외부에서도 ```클래스명.변수명``` 으로 접근가능\n",
    "- 인스턴스 변수 : 클래스 정의에서 메서드 안에 사용되는 변수\n",
    "    * 객체별로 서로 다른 값을 가진다.\n",
    "    * 클래스 내부에서는 ```self.변수명```, 외부에서는 ```객체명.변수명``` 으로 접근"
   ]
  },
  {
   "cell_type": "code",
   "execution_count": 2,
   "id": "bb94eab5",
   "metadata": {},
   "outputs": [],
   "source": [
    "class Figure:\n",
    "    count = 0 #클래스 변수\n",
    "    \n",
    "    def __init__(self,width,height):\n",
    "        #인스턴스 변수\n",
    "        self.width = width\n",
    "        self.height = height\n",
    "        Figure.count +=1\n",
    "    \n",
    "    def __del__(self):\n",
    "        Figure.count -= 1\n",
    "        \n",
    "    def calc_area(self):\n",
    "        return self.width * self.height"
   ]
  },
  {
   "cell_type": "code",
   "execution_count": 3,
   "id": "96dd6515",
   "metadata": {},
   "outputs": [
    {
     "data": {
      "text/plain": [
       "2"
      ]
     },
     "execution_count": 3,
     "metadata": {},
     "output_type": "execute_result"
    }
   ],
   "source": [
    "fig1 = Figure(2,3)\n",
    "Figure.count\n",
    "fig2 = Figure(3,4)\n",
    "Figure.count"
   ]
  },
  {
   "cell_type": "markdown",
   "id": "52b29034",
   "metadata": {},
   "source": [
    "#### instance method, static method, class method"
   ]
  },
  {
   "cell_type": "markdown",
   "id": "683a7622",
   "metadata": {},
   "source": [
    "- Instance Method\n",
    "\n",
    "    * 해당 Method를 호출한 객체에만 영향을 미친다.\n",
    "    * 객체의 Attribute에 접근 가능"
   ]
  },
  {
   "cell_type": "markdown",
   "id": "758a29e5",
   "metadata": {},
   "source": [
    "- Static Method\n",
    "    * self 파라미터를 가지고있지 않음\n",
    "    * 객체 Attribute에 접근 불가\n",
    "    * ```@Staticmethod``` Decorator아래에 생성\n",
    "    * ```클래스명.메서드명``` ```객체명.메서드명```으로 호출 가능"
   ]
  },
  {
   "cell_type": "code",
   "execution_count": 13,
   "id": "7c8fd0cb",
   "metadata": {},
   "outputs": [],
   "source": [
    "class Figure:\n",
    "    def __init__(self,width,height):\n",
    "        self.width = width\n",
    "        self.height = height\n",
    "    \n",
    "    def calc_area(self):\n",
    "        Figure.is_square(self.width,self.height)\n",
    "        return self.width *self.height\n",
    "    \n",
    "    @staticmethod\n",
    "    def is_square(rect_width,rect_height):\n",
    "        if rect_width == rect_height:\n",
    "            print('정사각형 가능')\n",
    "        else:\n",
    "            print('정사각형 불가능')"
   ]
  },
  {
   "cell_type": "code",
   "execution_count": 14,
   "id": "a0a813a4",
   "metadata": {},
   "outputs": [
    {
     "name": "stdout",
     "output_type": "stream",
     "text": [
      "정사각형 가능\n",
      "정사각형 불가능\n"
     ]
    }
   ],
   "source": [
    "figure1 = Figure(2,3)\n",
    "figure1.is_square(5,5)\n",
    "Figure.is_square(3,4)"
   ]
  },
  {
   "cell_type": "code",
   "execution_count": 15,
   "id": "f8043b7b",
   "metadata": {},
   "outputs": [
    {
     "name": "stdout",
     "output_type": "stream",
     "text": [
      "정사각형 불가능\n"
     ]
    },
    {
     "data": {
      "text/plain": [
       "6"
      ]
     },
     "execution_count": 15,
     "metadata": {},
     "output_type": "execute_result"
    }
   ],
   "source": [
    "figure1.calc_area()"
   ]
  },
  {
   "cell_type": "markdown",
   "id": "0312fee6",
   "metadata": {},
   "source": [
    "- Class Method : 해당 Class 안에서 호출되는 Method\n",
    "    * self 대신 cls 파라미터를 가진다.\n",
    "    * 클래스 변수에 접근 가능. ```cls.변수명```으로 접근 가능. \n",
    "    * 객체 속성/메서드 접근 불가능\n",
    "    * ```@classmethod``` 데코레이터 아래에 생성\n",
    "    * ```클래스명.메서드명``` ```객체명.메서드명```으로 호출 가능"
   ]
  },
  {
   "cell_type": "code",
   "execution_count": 25,
   "id": "47381464",
   "metadata": {},
   "outputs": [],
   "source": [
    "class Figure1:\n",
    "    count = 0\n",
    "    \n",
    "    def __init__(self,width,height):\n",
    "        self.width = width\n",
    "        self.height = height\n",
    "        Figure1.count +=1\n",
    "    def calc_area(self):\n",
    "        return self.width* self.height\n",
    "    \n",
    "    @classmethod\n",
    "    def print_count(cls):\n",
    "        return cls.count"
   ]
  },
  {
   "cell_type": "code",
   "execution_count": 26,
   "id": "4c768c55",
   "metadata": {},
   "outputs": [
    {
     "name": "stdout",
     "output_type": "stream",
     "text": [
      "2\n",
      "2\n",
      "2\n"
     ]
    }
   ],
   "source": [
    "fig1 = Figure1(2,3)\n",
    "fig2 = Figure1(4,5)\n",
    "print(Figure1.count)\n",
    "print(Figure1.print_count())\n",
    "print(fig1.print_count())"
   ]
  },
  {
   "cell_type": "markdown",
   "id": "c314d787",
   "metadata": {},
   "source": [
    "#### static method 와 class method의 차이점"
   ]
  },
  {
   "cell_type": "code",
   "execution_count": 32,
   "id": "779f803f",
   "metadata": {},
   "outputs": [
    {
     "name": "stdout",
     "output_type": "stream",
     "text": [
      "figure figure\n",
      "figure circle\n",
      "Figure circle\n",
      "Circle circle\n"
     ]
    }
   ],
   "source": [
    "class Figure :\n",
    "    @classmethod\n",
    "    def set_name(cls,name):\n",
    "        cls.name = name\n",
    "    @staticmethod\n",
    "    def static_set_name(name):\n",
    "        Figure.name = name\n",
    "class Circle(Figure):\n",
    "    pass\n",
    "\n",
    "Figure.set_name('figure')\n",
    "print(Figure.name,Circle.name)\n",
    "\n",
    "Circle.set_name('circle')\n",
    "print(Figure.name,Circle.name)\n",
    "\n",
    "Figure.static_set_name('Figure')\n",
    "print(Figure.name,Circle.name)\n",
    "Circle.static_set_name('Circle')\n",
    "print(Figure.name,Circle.name)"
   ]
  },
  {
   "cell_type": "code",
   "execution_count": null,
   "id": "78c1c36d",
   "metadata": {},
   "outputs": [],
   "source": []
  }
 ],
 "metadata": {
  "kernelspec": {
   "display_name": "Python 3",
   "language": "python",
   "name": "python3"
  },
  "language_info": {
   "codemirror_mode": {
    "name": "ipython",
    "version": 3
   },
   "file_extension": ".py",
   "mimetype": "text/x-python",
   "name": "python",
   "nbconvert_exporter": "python",
   "pygments_lexer": "ipython3",
   "version": "3.8.8"
  }
 },
 "nbformat": 4,
 "nbformat_minor": 5
}
