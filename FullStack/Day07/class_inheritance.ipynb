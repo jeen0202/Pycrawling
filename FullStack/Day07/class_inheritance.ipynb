{
 "cells": [
  {
   "cell_type": "markdown",
   "id": "6e0356cd",
   "metadata": {},
   "source": [
    "## 상속(Class Inheritance)"
   ]
  },
  {
   "cell_type": "markdown",
   "id": "5799d90a",
   "metadata": {},
   "source": [
    "### 추상화와 상속"
   ]
  },
  {
   "cell_type": "markdown",
   "id": "90dd9d21",
   "metadata": {},
   "source": [
    "* 추상화 : 여러 클래스에서 중복되는 속성, method를 하나의 기본 클래스로 작성\n",
    "* 상속 : 기본 클래스의 공통 기능을 물려받고, 다른 부분만 추가하거나 변경\n",
    "    - 상속되는 클래스는 Parent, Super, Base class라고 불린다.\n",
    "    - 상속받는 클래스는 Child, Sub, Derived class라고 불린다."
   ]
  },
  {
   "cell_type": "code",
   "execution_count": 1,
   "id": "8e4d890d",
   "metadata": {},
   "outputs": [],
   "source": [
    "class Figure:\n",
    "    def __init__(self,name, color):\n",
    "        self.name = name\n",
    "        self.color = color"
   ]
  },
  {
   "cell_type": "code",
   "execution_count": 2,
   "id": "04e3658c",
   "metadata": {},
   "outputs": [],
   "source": [
    "class Quadrangle(Figure):\n",
    "    def set_area(self,width,height):\n",
    "        self.width = width\n",
    "        self.height = height\n",
    "    def get_info(self):\n",
    "        print(self.name,self.color,self.width*self.height)"
   ]
  },
  {
   "cell_type": "code",
   "execution_count": 3,
   "id": "3aa7fae6",
   "metadata": {},
   "outputs": [
    {
     "name": "stdout",
     "output_type": "stream",
     "text": [
      "sejing white 25\n"
     ]
    }
   ],
   "source": [
    "squre = Quadrangle('sejing','white')\n",
    "squre.set_area(5,5,)\n",
    "squre.get_info()"
   ]
  },
  {
   "cell_type": "code",
   "execution_count": 6,
   "id": "71cfcc30",
   "metadata": {},
   "outputs": [],
   "source": [
    "class Triangle(Figure):\n",
    "    def set_area(self,width,height):\n",
    "        self.width = width\n",
    "        self.height = height\n",
    "    def get_info(self):\n",
    "        print(self.name, self.color, self.width*self.height/2)"
   ]
  },
  {
   "cell_type": "code",
   "execution_count": 7,
   "id": "082ebe7c",
   "metadata": {},
   "outputs": [
    {
     "name": "stdout",
     "output_type": "stream",
     "text": [
      "try red 10.0\n"
     ]
    }
   ],
   "source": [
    "tri = Triangle('try','red')\n",
    "tri.set_area(5,4)\n",
    "tri.get_info()"
   ]
  },
  {
   "cell_type": "code",
   "execution_count": 10,
   "id": "46c8b11a",
   "metadata": {},
   "outputs": [
    {
     "data": {
      "text/plain": [
       "True"
      ]
     },
     "execution_count": 10,
     "metadata": {},
     "output_type": "execute_result"
    }
   ],
   "source": [
    "#상속 유뮤를 확인하는 함수 issubclass\n",
    "issubclass(Quadrangle,Figure)\n",
    "#클래스와 객체의 관계를 확인하는 함수 isinstance\n",
    "isinstance(tri,Figure)"
   ]
  },
  {
   "cell_type": "markdown",
   "id": "1e390dc6",
   "metadata": {},
   "source": [
    "#### Method Override(함수 재정의)"
   ]
  },
  {
   "cell_type": "markdown",
   "id": "089a1c3f",
   "metadata": {},
   "source": [
    "sub 클래스에서 super 클래스의 method를 재정의"
   ]
  },
  {
   "cell_type": "code",
   "execution_count": 27,
   "id": "8fd88251",
   "metadata": {},
   "outputs": [],
   "source": [
    "class Person :\n",
    "    def __init__(self,name):\n",
    "        self.name = name\n",
    "    def work(self):\n",
    "        print(self.name + ' works hard')\n",
    "class Student(Person):\n",
    "    def work(self):\n",
    "        print(self.name + \" studies hard\")\n",
    "    def partttime(self):\n",
    "        super().work()"
   ]
  },
  {
   "cell_type": "code",
   "execution_count": 18,
   "id": "0e2a9fdf",
   "metadata": {},
   "outputs": [
    {
     "name": "stdout",
     "output_type": "stream",
     "text": [
      "SsuSsu studies hard\n"
     ]
    }
   ],
   "source": [
    "std1 = Student('SsuSsu')\n",
    "std1.work()"
   ]
  },
  {
   "cell_type": "markdown",
   "id": "22c4c4f6",
   "metadata": {},
   "source": [
    "#### Sub 클래스에서 Super 클래스의 Method 호출"
   ]
  },
  {
   "cell_type": "markdown",
   "id": "b85c1783",
   "metadata": {},
   "source": [
    "##### super()\n",
    "* 자식 클래스에서 부모 클래스의 method를 호출 할 때 사용"
   ]
  },
  {
   "cell_type": "code",
   "execution_count": 30,
   "id": "b07b8440",
   "metadata": {},
   "outputs": [],
   "source": [
    "class Student(Person):\n",
    "    def work(self):\n",
    "        print(self.name + \" studies hard\")\n",
    "    def parttime(self):\n",
    "        super().work()"
   ]
  },
  {
   "cell_type": "code",
   "execution_count": 31,
   "id": "97fa94c6",
   "metadata": {},
   "outputs": [
    {
     "name": "stdout",
     "output_type": "stream",
     "text": [
      "sehee works hard\n"
     ]
    }
   ],
   "source": [
    "std1 = Student('sehee')\n",
    "std1.parttime()"
   ]
  },
  {
   "cell_type": "code",
   "execution_count": null,
   "id": "15d5b647",
   "metadata": {},
   "outputs": [],
   "source": []
  }
 ],
 "metadata": {
  "kernelspec": {
   "display_name": "Python 3",
   "language": "python",
   "name": "python3"
  },
  "language_info": {
   "codemirror_mode": {
    "name": "ipython",
    "version": 3
   },
   "file_extension": ".py",
   "mimetype": "text/x-python",
   "name": "python",
   "nbconvert_exporter": "python",
   "pygments_lexer": "ipython3",
   "version": "3.8.8"
  }
 },
 "nbformat": 4,
 "nbformat_minor": 5
}
