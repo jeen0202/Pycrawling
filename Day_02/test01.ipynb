{
 "cells": [
  {
   "cell_type": "markdown",
   "id": "ec224aff",
   "metadata": {},
   "source": [
    "##### type casting"
   ]
  },
  {
   "cell_type": "code",
   "execution_count": 1,
   "id": "99a52c9b",
   "metadata": {},
   "outputs": [
    {
     "name": "stdout",
     "output_type": "stream",
     "text": [
      "<class 'float'> 123.0\n"
     ]
    }
   ],
   "source": [
    "digit_str= \"123\"\n",
    "digit_int = int(digit_str)\n",
    "digit = float(digit_str)\n",
    "print(type(digit),digit)"
   ]
  },
  {
   "cell_type": "code",
   "execution_count": 2,
   "id": "46ac9e57",
   "metadata": {},
   "outputs": [
    {
     "name": "stdout",
     "output_type": "stream",
     "text": [
      "3\n",
      "4\n",
      "7\n"
     ]
    }
   ],
   "source": [
    "digit1 = int(input ())\n",
    "digit2 = int(input())\n",
    "print (digit1 + digit2)"
   ]
  },
  {
   "cell_type": "markdown",
   "id": "e6edf792",
   "metadata": {},
   "source": [
    "### 문자열(String)"
   ]
  },
  {
   "cell_type": "code",
   "execution_count": 3,
   "id": "104e4b2b",
   "metadata": {},
   "outputs": [],
   "source": [
    "article = \"\"\"Gareth Southgate's side were on a mission to travel one step further than any England side had done since the 1966 World Cup final win against West Germany, and they finally achieved the long-cherished goal as they came from behind to triumph in extra time.\n",
    "\n",
    "In front of 66,000 fans and in a frenzied, thunderous atmosphere this newer Wembley has not experienced before, England battled their way out of adversity to secure a meeting with Italy in the final at the same venue on Sunday (20:00 BST kick-off).\n",
    "\n",
    "They had to fight for victory against steely opponents - who had an inspired keeper in Kasper Schmeichel - especially after conceding their first goal of the tournament to Mikkel Damsgaard's stunning free-kick after 30 minutes.\n",
    "\n",
    "But they replied quickly as Denmark captain Simon Kjaer turned in Bukayo Saka's threatening cross six minutes before the break.\n",
    "\n",
    "Schmeichel was Denmark's hero as the hosts sought the winner, saving brilliantly from Harry Maguire and Harry Kane as the game went into extra time and the prospect of penalties loomed large.\n",
    "\n",
    "The moment the nation has awaited so long effectively arrived with Wembley's giant screens showing 103 minutes and captain Kane standing over a penalty after Raheem Sterling had been fouled by Joakim Maehle.\n",
    "\n",
    "Denmark were unhappy with the decision, which was checked by VAR.\n",
    "\n",
    "And in keeping with England's long and tortuous history, it was not straightforward as the normally ice-cool Kane saw an awful penalty saved by Schmeichel - but the rebound fell at his feet for him to score.\n",
    "\n",
    "Kane has now equalled Gary Lineker's long-standing record of 10 goals for England at major tournaments.\n",
    "\n",
    "Wembley went wild with deafening noise and wild celebrations and, after all the years of hurt, England have the golden opportunity to finally claim a major crown.\"\"\""
   ]
  },
  {
   "cell_type": "code",
   "execution_count": 10,
   "id": "270d5361",
   "metadata": {},
   "outputs": [
    {
     "name": "stdout",
     "output_type": "stream",
     "text": [
      "5\n",
      "1812\n",
      "7\n",
      "977\n",
      "Gareth Southgate's side were on a mission to travel one step further than any England side had done since the 1966 World Cup final win against West Germany, and they finally achieved the long-cherished goal as they came from behind to triumph in extra time.\n",
      "\n",
      "In front of 66,000 fans and in a frenzied, thunderous atmosphere this newer Wembley has not experienced before, England battled their way out of adversity to secure a meeting with Italy in the final at the same venue on Sunday (20:00 BST kick-off).\n",
      "\n",
      "They had to fight for victory against steely opponents - who had an inspired keeper in Kasper Schmeichel - especially after conceding their first goal of the tournament to Mikkel Damsgaard's stunning free-kick after 30 minutes.\n",
      "\n",
      "But they replied quickly as 덴마크 captain Simon Kjaer turned in Bukayo Saka's threatening cross six minutes before the break.\n",
      "\n",
      "Schmeichel was 덴마크's hero as the hosts sought the winner, saving brilliantly from Harry Maguire and Harry Kane as the game went into extra time and the prospect of penalties loomed large.\n",
      "\n",
      "The moment the nation has awaited so long effectively arrived with Wembley's giant screens showing 103 minutes and captain Kane standing over a penalty after Raheem Sterling had been fouled by Joakim Maehle.\n",
      "\n",
      "덴마크 were unhappy with the decision, which was checked by VAR.\n",
      "\n",
      "And in keeping with England's long and tortuous history, it was not straightforward as the normally ice-cool Kane saw an awful penalty saved by Schmeichel - but the rebound fell at his feet for him to score.\n",
      "\n",
      "Kane has now equalled Gary Lineker's long-standing record of 10 goals for England at major tournaments.\n",
      "\n",
      "Wembley went wild with deafening noise and wild celebrations and, after all the years of hurt, England have the golden opportunity to finally claim a major crown.\n"
     ]
    }
   ],
   "source": [
    "print(article.count('England'))\n",
    "print(len(article))\n",
    "print(article.find('S')) #해당 문자열이 존재하는 위치를 반환\n",
    "print(article.find('Kane'))\n",
    "print(article.replace(\"Denmark\",\"덴마크\"))"
   ]
  },
  {
   "cell_type": "markdown",
   "id": "567b302a",
   "metadata": {},
   "source": [
    "###### 문자열의 Index"
   ]
  },
  {
   "cell_type": "markdown",
   "id": "1e3f7eaa",
   "metadata": {},
   "source": [
    "- 문자열 내부요소의 위치 결정"
   ]
  },
  {
   "cell_type": "code",
   "execution_count": 11,
   "id": "a8cc99e2",
   "metadata": {},
   "outputs": [
    {
     "name": "stdout",
     "output_type": "stream",
     "text": [
      "Python\n",
      "t\n",
      "tho\n"
     ]
    }
   ],
   "source": [
    "string1 = \"Python\"\n",
    "print(string1)\n",
    "print(string1[2])\n",
    "print(string1[2:5])"
   ]
  },
  {
   "cell_type": "code",
   "execution_count": 14,
   "id": "53a51a7b",
   "metadata": {},
   "outputs": [
    {
     "name": "stdout",
     "output_type": "stream",
     "text": [
      "...computer...\n",
      "...computer...\n",
      "computer\n"
     ]
    }
   ],
   "source": [
    "some_string = \"...computer...\"\n",
    "print(some_string)\n",
    "print(some_string.strip()) #\n",
    "print(some_string.strip('.'))"
   ]
  },
  {
   "cell_type": "markdown",
   "id": "bc33ac2b",
   "metadata": {},
   "source": [
    "##### 출력"
   ]
  },
  {
   "cell_type": "code",
   "execution_count": 15,
   "id": "87c10093",
   "metadata": {},
   "outputs": [
    {
     "name": "stdout",
     "output_type": "stream",
     "text": [
      "I have a pen, I have a apple,\n"
     ]
    }
   ],
   "source": [
    "print (\"I have a {}, I have a {},\".format(\"pen\",\"apple\"))"
   ]
  },
  {
   "cell_type": "code",
   "execution_count": 22,
   "id": "1951aaee",
   "metadata": {},
   "outputs": [
    {
     "name": "stdout",
     "output_type": "stream",
     "text": [
      "0.087\n"
     ]
    }
   ],
   "source": [
    "interest = 0.08746\n",
    "print (format(interest, \".3f\")) #format을 사용하여 출력할 소수점 자리를 지정할 수 있다."
   ]
  },
  {
   "cell_type": "code",
   "execution_count": 24,
   "id": "0678aac7",
   "metadata": {},
   "outputs": [
    {
     "name": "stdout",
     "output_type": "stream",
     "text": [
      "I have a pen, I have an apple\n"
     ]
    }
   ],
   "source": [
    "#정통적인 언어 출력\n",
    "print(\"I have a %s, I have an %s\" %(\"pen\",\"apple\"))"
   ]
  },
  {
   "cell_type": "markdown",
   "id": "3e8855b0",
   "metadata": {},
   "source": [
    "##### Exercise 11. 입/출력\n",
    "- 사용자로부터 두 개의 수를 입력 받은후 사칙연산하여 출력하시오 (단. 나눈 값은 소숫점 첫번쨰 자리까지 출력)"
   ]
  },
  {
   "cell_type": "code",
   "execution_count": 35,
   "id": "b13b6418",
   "metadata": {},
   "outputs": [
    {
     "name": "stdout",
     "output_type": "stream",
     "text": [
      "첫번쨰 수를 입력하세요 : 100\n",
      "두번째 수를 입력하세요 : 3\n",
      "두 수의 차는 합은 103입니다\n",
      "두 수의 곱은 300입니다\n",
      "나누기의 몫은 33.0 입니다.\n",
      "나누기의 나머지는 1 입니다.\n"
     ]
    }
   ],
   "source": [
    "num1 = int(input(\"첫번쨰 수를 입력하세요 : \"))\n",
    "num2 = int(input(\"두번째 수를 입력하세요 : \"))\n",
    "print(\"두 수의 차는 합은 %d입니다\" %(num1+num2))\n",
    "print(f\"두 수의 곱은 {num1*num2}입니다\")\n",
    "print(\"나누기의 몫은 {} 입니다.\".format(format(num1//num2, \".1f\")))\n",
    "print(\"나누기의 나머지는 {} 입니다.\".format(num1%num2))"
   ]
  },
  {
   "cell_type": "markdown",
   "id": "ed8fc461",
   "metadata": {},
   "source": [
    "#### Data Structure - List(리스트)"
   ]
  },
  {
   "cell_type": "markdown",
   "id": "45060294",
   "metadata": {},
   "source": [
    "선언 및 초기화"
   ]
  },
  {
   "cell_type": "code",
   "execution_count": 57,
   "id": "6020e428",
   "metadata": {},
   "outputs": [],
   "source": [
    "location = list() # 빈 list 생성\n",
    "location = [\"서울시\",\"인천시\",\"대전시\",\"울산시\",\"광주시\",\"대구시\",\"부산시\"]"
   ]
  },
  {
   "cell_type": "code",
   "execution_count": 58,
   "id": "ce0d0df6",
   "metadata": {},
   "outputs": [
    {
     "name": "stdout",
     "output_type": "stream",
     "text": [
      "['서울시', '인천시', '대전시', '울산시', '광주시', '대구시', '부산시']\n"
     ]
    }
   ],
   "source": [
    "print(location)"
   ]
  },
  {
   "cell_type": "markdown",
   "id": "e04f5f38",
   "metadata": {},
   "source": [
    "data 단순 추가"
   ]
  },
  {
   "cell_type": "code",
   "execution_count": 38,
   "id": "e69e9ea9",
   "metadata": {},
   "outputs": [],
   "source": [
    "location.append(\"전주시\")"
   ]
  },
  {
   "cell_type": "code",
   "execution_count": 55,
   "id": "ed4c3adc",
   "metadata": {},
   "outputs": [],
   "source": [
    "location.insert(2,\"부산시\")"
   ]
  },
  {
   "cell_type": "code",
   "execution_count": 56,
   "id": "deb87656",
   "metadata": {},
   "outputs": [
    {
     "name": "stdout",
     "output_type": "stream",
     "text": [
      "['서울시', '인천시', '부산시', '대전시', '울산시', '광주시', '대구시']\n"
     ]
    }
   ],
   "source": [
    "print(location)"
   ]
  },
  {
   "cell_type": "markdown",
   "id": "f24ac14f",
   "metadata": {},
   "source": [
    "index사용을 통한 slicing"
   ]
  },
  {
   "cell_type": "code",
   "execution_count": 40,
   "id": "7e3612e5",
   "metadata": {},
   "outputs": [
    {
     "data": {
      "text/plain": [
       "'전주시'"
      ]
     },
     "execution_count": 40,
     "metadata": {},
     "output_type": "execute_result"
    }
   ],
   "source": [
    "location[-1]"
   ]
  },
  {
   "cell_type": "code",
   "execution_count": 43,
   "id": "66536a5d",
   "metadata": {
    "scrolled": true
   },
   "outputs": [
    {
     "data": {
      "text/plain": [
       "['인천시', '대전시']"
      ]
     },
     "execution_count": 43,
     "metadata": {},
     "output_type": "execute_result"
    }
   ],
   "source": [
    "location[1:3]"
   ]
  },
  {
   "cell_type": "markdown",
   "id": "fb85ba7e",
   "metadata": {},
   "source": [
    "삭제"
   ]
  },
  {
   "cell_type": "code",
   "execution_count": 53,
   "id": "291200af",
   "metadata": {},
   "outputs": [],
   "source": [
    "location.remove(\"부산시\")"
   ]
  },
  {
   "cell_type": "code",
   "execution_count": 44,
   "id": "cb3acd01",
   "metadata": {},
   "outputs": [],
   "source": [
    "del location[-1]"
   ]
  },
  {
   "cell_type": "code",
   "execution_count": 50,
   "id": "c3a7d6c9",
   "metadata": {},
   "outputs": [
    {
     "data": {
      "text/plain": [
       "['서울시', '인천시', '대전시', '울산시', '광주시', '대구시']"
      ]
     },
     "execution_count": 50,
     "metadata": {},
     "output_type": "execute_result"
    }
   ],
   "source": [
    "location"
   ]
  },
  {
   "cell_type": "code",
   "execution_count": 60,
   "id": "4926774c",
   "metadata": {},
   "outputs": [],
   "source": [
    "location = ['서울시','부천시',1,2.1,True]"
   ]
  },
  {
   "cell_type": "code",
   "execution_count": 61,
   "id": "6c0294cc",
   "metadata": {},
   "outputs": [],
   "source": [
    "lang = [\"java\",\"c\",\"c++\"]\n",
    "lang.append(\"golang\")"
   ]
  },
  {
   "cell_type": "code",
   "execution_count": 64,
   "id": "f50b1e99",
   "metadata": {},
   "outputs": [],
   "source": [
    "lang.remove(\"java\")"
   ]
  },
  {
   "cell_type": "code",
   "execution_count": 65,
   "id": "06e0268a",
   "metadata": {},
   "outputs": [
    {
     "name": "stdout",
     "output_type": "stream",
     "text": [
      "['c', 'c++', 'golang']\n"
     ]
    }
   ],
   "source": [
    "print(lang)"
   ]
  },
  {
   "cell_type": "markdown",
   "id": "d4325537",
   "metadata": {},
   "source": [
    "데이터 정렬"
   ]
  },
  {
   "cell_type": "code",
   "execution_count": 69,
   "id": "4a33e012",
   "metadata": {},
   "outputs": [
    {
     "name": "stdout",
     "output_type": "stream",
     "text": [
      "[1, 2, 3, 4]\n"
     ]
    }
   ],
   "source": [
    "numbers = [2,1,4,3]\n",
    "numbers.sort()\n",
    "print(numbers)"
   ]
  },
  {
   "cell_type": "code",
   "execution_count": 76,
   "id": "f0664011",
   "metadata": {},
   "outputs": [
    {
     "name": "stdout",
     "output_type": "stream",
     "text": [
      "[1, 2, 3, 4, 5]\n"
     ]
    }
   ],
   "source": [
    "digit_set = [1,5,3,2,4]\n",
    "digit_set.sort()\n",
    "print(digit_set)"
   ]
  },
  {
   "cell_type": "code",
   "execution_count": 78,
   "id": "468cdcb8",
   "metadata": {},
   "outputs": [],
   "source": [
    "digit_set_new = digit_set.reverse()"
   ]
  },
  {
   "cell_type": "code",
   "execution_count": 79,
   "id": "5537f77b",
   "metadata": {},
   "outputs": [],
   "source": [
    "digit_set_new"
   ]
  },
  {
   "cell_type": "markdown",
   "id": "bef3301e",
   "metadata": {},
   "source": [
    "###### 문자열 특수 함수와 리스트"
   ]
  },
  {
   "cell_type": "code",
   "execution_count": 81,
   "id": "7c67d054",
   "metadata": {},
   "outputs": [],
   "source": [
    "python_is_easy = \"python is easy\"\n",
    "string_list = python_is_easy.split() #문자열을 개행 단위로 분리하여 LIST형태로 반환"
   ]
  },
  {
   "cell_type": "code",
   "execution_count": 82,
   "id": "a3f215eb",
   "metadata": {},
   "outputs": [
    {
     "name": "stdout",
     "output_type": "stream",
     "text": [
      "['python', 'is', 'easy']\n"
     ]
    }
   ],
   "source": [
    "print(string_list)"
   ]
  },
  {
   "cell_type": "code",
   "execution_count": null,
   "id": "646ce093",
   "metadata": {},
   "outputs": [],
   "source": []
  }
 ],
 "metadata": {
  "kernelspec": {
   "display_name": "Python 3",
   "language": "python",
   "name": "python3"
  },
  "language_info": {
   "codemirror_mode": {
    "name": "ipython",
    "version": 3
   },
   "file_extension": ".py",
   "mimetype": "text/x-python",
   "name": "python",
   "nbconvert_exporter": "python",
   "pygments_lexer": "ipython3",
   "version": "3.8.8"
  }
 },
 "nbformat": 4,
 "nbformat_minor": 5
}
