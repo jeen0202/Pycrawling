{
 "cells": [
  {
   "cell_type": "markdown",
   "id": "989f7ab1",
   "metadata": {},
   "source": [
    "### 반복문(for,while)\n",
    "* 반복문 : 조건을 기반으로 문장을 반복 실행\n",
    "~~~\n",
    "for 변수 in (list or string) :\n",
    "    실행문\n",
    "for 변수 in range(반복회수):\n",
    "    실행(반복)\n",
    "~~~"
   ]
  },
  {
   "cell_type": "code",
   "execution_count": 8,
   "id": "971411db",
   "metadata": {},
   "outputs": [
    {
     "name": "stdout",
     "output_type": "stream",
     "text": [
      "1\n",
      "2\n",
      "3\n",
      "4\n",
      "5\n",
      "6\n",
      "7\n",
      "8\n",
      "9\n",
      "10\n"
     ]
    }
   ],
   "source": [
    "for i in range(10) :\n",
    "    print(i+1)"
   ]
  },
  {
   "cell_type": "code",
   "execution_count": 6,
   "id": "612809e1",
   "metadata": {},
   "outputs": [
    {
     "name": "stdout",
     "output_type": "stream",
     "text": [
      "Python\n",
      "Java\n",
      "Golang\n"
     ]
    }
   ],
   "source": [
    "for i in [\"Python\", \"Java\" , \"Golang\"]:\n",
    "    print(i)"
   ]
  },
  {
   "cell_type": "code",
   "execution_count": 14,
   "id": "fb84f35a",
   "metadata": {},
   "outputs": [
    {
     "name": "stdout",
     "output_type": "stream",
     "text": [
      "55\n"
     ]
    }
   ],
   "source": [
    "sum = 0\n",
    "for i in range(1,11):\n",
    "    sum +=i\n",
    "print(sum)"
   ]
  },
  {
   "cell_type": "markdown",
   "id": "4111aadc",
   "metadata": {},
   "source": [
    "##### While문"
   ]
  },
  {
   "cell_type": "code",
   "execution_count": 16,
   "id": "e0675ee5",
   "metadata": {},
   "outputs": [
    {
     "name": "stdout",
     "output_type": "stream",
     "text": [
      "0\n",
      "1\n",
      "2\n",
      "3\n"
     ]
    }
   ],
   "source": [
    "i = 0;\n",
    "while i<=3 :\n",
    "    print(i)\n",
    "    i+=1"
   ]
  },
  {
   "cell_type": "code",
   "execution_count": 17,
   "id": "1c31c644",
   "metadata": {},
   "outputs": [
    {
     "name": "stdout",
     "output_type": "stream",
     "text": [
      "What's is your name? hi\n",
      "Hi, hi So where is foo bar?\n",
      "What's is your name? sejing\n",
      "Hi, sejing So where is foo bar?\n",
      "What's is your name? foo bar\n",
      "Hi, foo bar So where is foo bar?\n"
     ]
    }
   ],
   "source": [
    "name = \"\"\n",
    "while name != \"foo bar\":\n",
    "    name = input(\"What's is your name? \")\n",
    "    print(f\"Hi, {name} So where is foo bar?\")"
   ]
  },
  {
   "cell_type": "code",
   "execution_count": 18,
   "id": "75700c9f",
   "metadata": {},
   "outputs": [
    {
     "name": "stdout",
     "output_type": "stream",
     "text": [
      "10\n",
      "9\n",
      "8\n",
      "7\n",
      "6\n",
      "5\n",
      "4\n",
      "3\n",
      "2\n",
      "1\n"
     ]
    }
   ],
   "source": [
    "data = [1,2,3,4,5,6,7,8,9,10]\n",
    "data.reverse()\n",
    "for index in data :\n",
    "    print(index)"
   ]
  },
  {
   "cell_type": "code",
   "execution_count": 21,
   "id": "13dbbca1",
   "metadata": {},
   "outputs": [
    {
     "name": "stdout",
     "output_type": "stream",
     "text": [
      "exercise01\n",
      "exercise02\n",
      "exercise03\n",
      "exercise04\n"
     ]
    }
   ],
   "source": [
    "filelist = ['exercise01.docx', 'exercise02.docx', 'exercise03.docx', 'exercise04.docx']\n",
    "for file in filelist :\n",
    "    print(file.split(\".\")[0])"
   ]
  },
  {
   "cell_type": "code",
   "execution_count": 25,
   "id": "062fe492",
   "metadata": {},
   "outputs": [
    {
     "name": "stdout",
     "output_type": "stream",
     "text": [
      "exercise03.txt\n"
     ]
    }
   ],
   "source": [
    "filelist = ['exercise01.docx', 'exercise02.csv', 'exercise03.txt', 'exercise04.hwp']\n",
    "for file in filelist :\n",
    "    if(file.split(\".\")[1])==\"txt\" :\n",
    "        print(file)"
   ]
  },
  {
   "cell_type": "markdown",
   "id": "98e79388",
   "metadata": {},
   "source": [
    "### Python에서의 Function\n",
    "~~~\n",
    "def function(parameter):\n",
    "    실행문\n",
    "    .....\n",
    "    return output\n",
    "~~~"
   ]
  },
  {
   "cell_type": "code",
   "execution_count": 29,
   "id": "44d558b1",
   "metadata": {},
   "outputs": [],
   "source": [
    "def func(parameter):\n",
    "    print(\"Hello\")\n",
    "    print(\"How are you\")\n",
    "    print(parameter)"
   ]
  },
  {
   "cell_type": "code",
   "execution_count": 31,
   "id": "dda7c082",
   "metadata": {},
   "outputs": [
    {
     "name": "stdout",
     "output_type": "stream",
     "text": [
      "Hello\n",
      "How are you\n",
      "I'm good\n"
     ]
    }
   ],
   "source": [
    "func(\"I'm good\")"
   ]
  },
  {
   "cell_type": "code",
   "execution_count": 34,
   "id": "b4f640db",
   "metadata": {},
   "outputs": [],
   "source": [
    "def func1(data):\n",
    "    print(data)\n",
    "    return(data+10)"
   ]
  },
  {
   "cell_type": "code",
   "execution_count": 35,
   "id": "0a48f319",
   "metadata": {},
   "outputs": [
    {
     "name": "stdout",
     "output_type": "stream",
     "text": [
      "300\n",
      "310\n"
     ]
    }
   ],
   "source": [
    "print(func1(300))"
   ]
  },
  {
   "cell_type": "code",
   "execution_count": 37,
   "id": "2eb51a53",
   "metadata": {},
   "outputs": [],
   "source": [
    "def awe_sum(a,b,):\n",
    "    result= a+b\n",
    "    return result\n"
   ]
  },
  {
   "cell_type": "code",
   "execution_count": 38,
   "id": "4909fd89",
   "metadata": {},
   "outputs": [
    {
     "name": "stdout",
     "output_type": "stream",
     "text": [
      "50\n"
     ]
    }
   ],
   "source": [
    "print(awe_sum(30,20))"
   ]
  },
  {
   "cell_type": "code",
   "execution_count": 43,
   "id": "c432a8fd",
   "metadata": {},
   "outputs": [],
   "source": [
    "def mul_return(data):\n",
    "    result1 = data +1\n",
    "    result2 = data-1\n",
    "    result3 = data*2\n",
    "    return result1,result2,result3 #return 값이 여러개일 경우 tuple type으로 반환된다."
   ]
  },
  {
   "cell_type": "code",
   "execution_count": 44,
   "id": "f50d8c7f",
   "metadata": {},
   "outputs": [
    {
     "name": "stdout",
     "output_type": "stream",
     "text": [
      "(31, 29, 60)\n"
     ]
    }
   ],
   "source": [
    "print(mul_return(30))"
   ]
  },
  {
   "cell_type": "code",
   "execution_count": 45,
   "id": "033ec349",
   "metadata": {},
   "outputs": [],
   "source": [
    "def id_check(id) :\n",
    "    if id == \"admin\":\n",
    "        print(\"invalid id: admin\")\n",
    "        return\n",
    "    print(\"Valid id: \", id)"
   ]
  },
  {
   "cell_type": "code",
   "execution_count": 47,
   "id": "7aa0ee99",
   "metadata": {},
   "outputs": [
    {
     "name": "stdout",
     "output_type": "stream",
     "text": [
      "Valid id:  hi\n"
     ]
    }
   ],
   "source": [
    "id_check(\"hi\")"
   ]
  }
 ],
 "metadata": {
  "kernelspec": {
   "display_name": "Python 3",
   "language": "python",
   "name": "python3"
  },
  "language_info": {
   "codemirror_mode": {
    "name": "ipython",
    "version": 3
   },
   "file_extension": ".py",
   "mimetype": "text/x-python",
   "name": "python",
   "nbconvert_exporter": "python",
   "pygments_lexer": "ipython3",
   "version": "3.8.8"
  }
 },
 "nbformat": 4,
 "nbformat_minor": 5
}
