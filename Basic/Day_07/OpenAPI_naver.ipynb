{
 "cells": [
  {
   "cell_type": "code",
   "execution_count": 51,
   "id": "3acbc3e7",
   "metadata": {},
   "outputs": [
    {
     "name": "stdout",
     "output_type": "stream",
     "text": [
      "1 크리넥스 로션 솝 <b>물비누</b> 4L https://search.shopping.naver.com/gate.nhn?id=13829369358\n",
      "2 크리넥스 거품비누/<b>물비누</b> 대용량 리필 핸드워시 손세정제 1.95L 4L https://search.shopping.naver.com/gate.nhn?id=81188931455\n",
      "3 크리넥스 핸드워시 손세정제 거품비누 <b>물비누</b> 리필/대용량 거품형 포밍 핸드솝 https://search.shopping.naver.com/gate.nhn?id=81276023558\n",
      "4 러브맘 핸드워시 4L+300ml 대용량 리필 손세정제 거품비누 거품형 <b>물비누</b> https://search.shopping.naver.com/gate.nhn?id=82531246818\n",
      "5 오릭스 핸드워시 4.1kg 대용량 리필 <b>물비누</b> 거품 비누 버블 손세정제 업소용 https://search.shopping.naver.com/gate.nhn?id=80632843766\n",
      "6 화이트시그널 거품 핸드워시 프리미엄 핸드솝 손세정제 <b>물비누</b> 500ml 대용량 https://search.shopping.naver.com/gate.nhn?id=82933905625\n",
      "7 생활공작소 핸드워시 손세정제 용기 500mlx2개+리필 400mlx5개 https://search.shopping.naver.com/gate.nhn?id=82355482914\n",
      "8 유한킴벌리 업소용 크리넥스 <b>물비누</b> 거품비누 4L 대용량 모음 핸드워시 손세정제 디스펜서 https://search.shopping.naver.com/gate.nhn?id=12480699320\n",
      "9 살림백서 핸드워시 손세정제 본품 500mlx2개+리필 200mlx2개 거품비누 핸드솝 https://search.shopping.naver.com/gate.nhn?id=83101146428\n",
      "10 오릭스 대용량 핸드워시 리필 <b>물비누</b> 거품비누 4.1L 레몬향 자몽향 https://search.shopping.naver.com/gate.nhn?id=81509774334\n"
     ]
    }
   ],
   "source": [
    "import requests\n",
    "import pprint # 구조적 print\n",
    "from NaverAPI import naver_key\n",
    "client_key, client_secret = naver_key()\n",
    "\n",
    "naver_open_api = 'https://openapi.naver.com/v1/search/shop.json?query=물비누'\n",
    "#요청시 header에 넘길 data 지정\n",
    "header_params = {\"X-Naver-Client-Id\":client_key,\"X-Naver-Client-Secret\":client_secret}\n",
    "res = requests.get(naver_open_api, headers=header_params)\n",
    "\n",
    "#에러코드 분류\n",
    "if res.status_code ==200:\n",
    "    data = res.json()\n",
    "    for index,item in enumerate(data['items']):\n",
    "        print(index+1, item['title'], item['link'])\n",
    "else :\n",
    "    print (\"Error!!\", res_status_code)       "
   ]
  },
  {
   "cell_type": "code",
   "execution_count": null,
   "id": "94658ae2",
   "metadata": {},
   "outputs": [],
   "source": []
  }
 ],
 "metadata": {
  "kernelspec": {
   "display_name": "Python 3",
   "language": "python",
   "name": "python3"
  },
  "language_info": {
   "codemirror_mode": {
    "name": "ipython",
    "version": 3
   },
   "file_extension": ".py",
   "mimetype": "text/x-python",
   "name": "python",
   "nbconvert_exporter": "python",
   "pygments_lexer": "ipython3",
   "version": "3.8.8"
  }
 },
 "nbformat": 4,
 "nbformat_minor": 5
}
