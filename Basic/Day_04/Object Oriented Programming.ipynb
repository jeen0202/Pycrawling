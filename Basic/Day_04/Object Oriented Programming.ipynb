{
 "cells": [
  {
   "cell_type": "markdown",
   "id": "229ddf13",
   "metadata": {},
   "source": [
    "#### 절차지향과 객체지향 프로그래밍\n",
    "\n",
    "- 절차지향\n",
    "    - Pascal, Cobol, Fotran, C"
   ]
  },
  {
   "cell_type": "code",
   "execution_count": 1,
   "id": "24806681",
   "metadata": {},
   "outputs": [
    {
     "name": "stdout",
     "output_type": "stream",
     "text": [
      "Fun coding\n"
     ]
    }
   ],
   "source": [
    "def print_string(data):\n",
    "    print(data)\n",
    "print_string(\"Fun coding\")"
   ]
  },
  {
   "cell_type": "markdown",
   "id": "a21bbe73",
   "metadata": {},
   "source": [
    "- 객체지향\n",
    "    - JAVA, C++\n"
   ]
  },
  {
   "cell_type": "markdown",
   "id": "a4a324c7",
   "metadata": {},
   "source": [
    "##### Class, Object, Attributes, Method\n",
    "- Class : 객체(Object)를 나타내기 위한 설계도\n",
    "- Object : 설계도를 통해 구현된 객체\n",
    "- Attributes : 객체의 요소 정의\n",
    "- Method : 객체의 행위 정의"
   ]
  },
  {
   "cell_type": "code",
   "execution_count": 2,
   "id": "e1696912",
   "metadata": {},
   "outputs": [
    {
     "data": {
      "text/plain": [
       "['Fun', 'cofing']"
      ]
     },
     "execution_count": 2,
     "metadata": {},
     "output_type": "execute_result"
    }
   ],
   "source": [
    "string = \"Fun cofing\" #class\n",
    "string.split() #method"
   ]
  },
  {
   "cell_type": "markdown",
   "id": "11b03766",
   "metadata": {},
   "source": [
    "##### Class 정의\n",
    "~~~\n",
    "class 이름 :\n",
    "    attribute 선언\n",
    "    method 선언 =>Self에 대한 참조 필요\n",
    "~~~"
   ]
  },
  {
   "cell_type": "code",
   "execution_count": 19,
   "id": "c4f51988",
   "metadata": {},
   "outputs": [],
   "source": [
    "class Quad():\n",
    "    height = 0\n",
    "    width = 0\n",
    "    color = \"\"\n",
    "    name = \"Quad\"\n",
    "    \n",
    "    def get_area(self):\n",
    "        return self.height * self.width\n",
    "    def qurd_name(self, arg1, arg2):\n",
    "        print (arg1,arg2)\n",
    "        return self.name"
   ]
  },
  {
   "cell_type": "markdown",
   "id": "66101bfe",
   "metadata": {},
   "source": [
    "##### Class 생성\n",
    "~~~\n",
    "객체명 = Class명(매개변수)\n",
    "~~~"
   ]
  },
  {
   "cell_type": "code",
   "execution_count": 21,
   "id": "c6bb2461",
   "metadata": {},
   "outputs": [
    {
     "name": "stdout",
     "output_type": "stream",
     "text": [
      "blue 사각형\n",
      "Quad 50\n"
     ]
    }
   ],
   "source": [
    "myQuad = Quad()\n",
    "myQuad.height = 5\n",
    "myQuad.width = 10\n",
    "myQuad.color = \"blue\"\n",
    "print(myQuad.qurd_name('blue','사각형'),myQuad.get_area())"
   ]
  },
  {
   "cell_type": "code",
   "execution_count": null,
   "id": "5f170a3f",
   "metadata": {},
   "outputs": [],
   "source": []
  }
 ],
 "metadata": {
  "kernelspec": {
   "display_name": "Python 3",
   "language": "python",
   "name": "python3"
  },
  "language_info": {
   "codemirror_mode": {
    "name": "ipython",
    "version": 3
   },
   "file_extension": ".py",
   "mimetype": "text/x-python",
   "name": "python",
   "nbconvert_exporter": "python",
   "pygments_lexer": "ipython3",
   "version": "3.8.8"
  }
 },
 "nbformat": 4,
 "nbformat_minor": 5
}
