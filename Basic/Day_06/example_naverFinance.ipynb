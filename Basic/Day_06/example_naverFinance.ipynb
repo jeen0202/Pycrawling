{
 "cells": [
  {
   "cell_type": "code",
   "execution_count": 50,
   "id": "a3716db8",
   "metadata": {
    "scrolled": true
   },
   "outputs": [
    {
     "name": "stdout",
     "output_type": "stream",
     "text": [
      "국내지수\n",
      "==================================================\n",
      "지수이름 :  삼성전자  현재지수 :  79,700 1.\n",
      "지수이름 :  삼부토건  현재지수 :  3,975 2.\n",
      "지수이름 :  카카오게임즈  현재지수 :  79,900 3.\n",
      "지수이름 :  골드퍼시픽  현재지수 :  1,835 4.\n",
      "지수이름 :  HMM  현재지수 :  44,000 5.\n",
      "지수이름 :  카카오  현재지수 :  160,000 6.\n",
      "지수이름 :  범양건영  현재지수 :  9,490 7.\n",
      "지수이름 :  제넥신  현재지수 :  92,600 8.\n",
      "지수이름 :  두산중공업  현재지수 :  25,700 9.\n",
      "지수이름 :  씨젠  현재지수 :  88,200 10.\n",
      "\n",
      "해외지수\n",
      "==================================================\n",
      "지수이름 :  다우산업  현재지수 :  34,870.16 상승\n",
      "지수이름 :  나스닥  현재지수 :  14,701.92 상승\n",
      "지수이름 :  홍콩H  현재지수 :  9,963.27 상승\n",
      "지수이름 :  상해종합  현재지수 :  3,556.93 상승\n",
      "지수이름 :  니케이225  현재지수 :  28,555.27 상승\n"
     ]
    }
   ],
   "source": [
    "from bs4 import BeautifulSoup\n",
    "import requests\n",
    "\n",
    "res = requests.get('https://finance.naver.com/sise')\n",
    "soup = BeautifulSoup(res.content, 'html.parser')\n",
    "items = soup.select('#popularItemList > li') # 국내증시\n",
    "data = soup.select('div.rgt > ul.lst_major > li') #해외증시\n",
    "print('국내지수')\n",
    "print('==================================================')\n",
    "for item in items :\n",
    "    print(\"지수이름 : \",item.find('a').get_text().strip(), \" 현재지수 : \",item.find('span').get_text(), item.find('em').get_text())\n",
    "print('\\n해외지수')\n",
    "print('==================================================')\n",
    "for item in data:\n",
    "    print(\"지수이름 : \",item.find('a').get_text().strip(), \" 현재지수 : \",item.find('span').get_text(), item.find('em').get_text())\n",
    "    "
   ]
  },
  {
   "cell_type": "code",
   "execution_count": null,
   "id": "28651986",
   "metadata": {},
   "outputs": [],
   "source": []
  }
 ],
 "metadata": {
  "kernelspec": {
   "display_name": "Python 3",
   "language": "python",
   "name": "python3"
  },
  "language_info": {
   "codemirror_mode": {
    "name": "ipython",
    "version": 3
   },
   "file_extension": ".py",
   "mimetype": "text/x-python",
   "name": "python",
   "nbconvert_exporter": "python",
   "pygments_lexer": "ipython3",
   "version": "3.8.8"
  }
 },
 "nbformat": 4,
 "nbformat_minor": 5
}
