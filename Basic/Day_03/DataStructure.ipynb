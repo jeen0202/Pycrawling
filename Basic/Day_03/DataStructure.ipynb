{
 "cells": [
  {
   "cell_type": "markdown",
   "id": "3f9fc243",
   "metadata": {},
   "source": [
    "# Data Structure\n",
    "- 데이터 구조 : List, Tuple, Dic, Set"
   ]
  },
  {
   "cell_type": "markdown",
   "id": "d574e3a1",
   "metadata": {},
   "source": [
    "## Tuple(튜플)\n",
    "-데이터의 변경(추가,삭제)이 불가능한 구조\n",
    "* 선언 : 변수명 =(요소)\n",
    "* 함수의 return은 data type으로 사용됨"
   ]
  },
  {
   "cell_type": "markdown",
   "id": "3605e5c4",
   "metadata": {},
   "source": [
    "선언 및 초기화"
   ]
  },
  {
   "cell_type": "code",
   "execution_count": 5,
   "id": "d24710e9",
   "metadata": {},
   "outputs": [
    {
     "data": {
      "text/plain": [
       "tuple"
      ]
     },
     "execution_count": 5,
     "metadata": {},
     "output_type": "execute_result"
    }
   ],
   "source": [
    "data1 = (1, 2, 3)\n",
    "type(data1)"
   ]
  },
  {
   "cell_type": "code",
   "execution_count": 6,
   "id": "d86d81fa",
   "metadata": {},
   "outputs": [
    {
     "data": {
      "text/plain": [
       "2"
      ]
     },
     "execution_count": 6,
     "metadata": {},
     "output_type": "execute_result"
    }
   ],
   "source": [
    "data1[1]"
   ]
  },
  {
   "cell_type": "markdown",
   "id": "3a61f324",
   "metadata": {},
   "source": [
    "Tuple 내부요소가 아닌 Tuple의 연산은 가능"
   ]
  },
  {
   "cell_type": "code",
   "execution_count": 11,
   "id": "379948bb",
   "metadata": {},
   "outputs": [
    {
     "name": "stdout",
     "output_type": "stream",
     "text": [
      "(1, 2, 3, 4, 5, 6)\n"
     ]
    }
   ],
   "source": [
    "data2 = (4,5,6)\n",
    "data3 = data1 + data2\n",
    "print(data3)"
   ]
  },
  {
   "cell_type": "code",
   "execution_count": 12,
   "id": "df51e8d4",
   "metadata": {
    "scrolled": true
   },
   "outputs": [
    {
     "name": "stdout",
     "output_type": "stream",
     "text": [
      "(1, 2, 3, 4, 5, 6, 1, 2, 3, 4, 5, 6)\n"
     ]
    }
   ],
   "source": [
    "print(data3*2)"
   ]
  },
  {
   "cell_type": "markdown",
   "id": "44704d07",
   "metadata": {},
   "source": [
    "####  tuple의 주 사용처"
   ]
  },
  {
   "cell_type": "code",
   "execution_count": 16,
   "id": "15e9da60",
   "metadata": {
    "scrolled": true
   },
   "outputs": [
    {
     "name": "stdout",
     "output_type": "stream",
     "text": [
      "2 1\n"
     ]
    }
   ],
   "source": [
    "x = 1\n",
    "y = 2\n",
    "temp = x\n",
    "x = y\n",
    "y = temp\n",
    "print(x,y)"
   ]
  },
  {
   "cell_type": "markdown",
   "id": "4299e2ed",
   "metadata": {},
   "source": [
    "#### tuple type을 사용한 간단한 swap 구현"
   ]
  },
  {
   "cell_type": "code",
   "execution_count": 20,
   "id": "89623679",
   "metadata": {},
   "outputs": [
    {
     "name": "stdout",
     "output_type": "stream",
     "text": [
      "1 2\n",
      "2 1\n"
     ]
    }
   ],
   "source": [
    "x=1 \n",
    "y=2\n",
    "print(x,y)\n",
    "x,y = y,x\n",
    "print(x,y)"
   ]
  },
  {
   "cell_type": "markdown",
   "id": "a6af1933",
   "metadata": {},
   "source": [
    "#### tuple type 사용을 통한 function의 다중값 반환"
   ]
  },
  {
   "cell_type": "code",
   "execution_count": 29,
   "id": "a0ccb96e",
   "metadata": {},
   "outputs": [
    {
     "name": "stdout",
     "output_type": "stream",
     "text": [
      "0 1\n"
     ]
    },
    {
     "data": {
      "text/plain": [
       "tuple"
      ]
     },
     "execution_count": 29,
     "metadata": {},
     "output_type": "execute_result"
    }
   ],
   "source": [
    "def quot_and_rem(x,y):\n",
    "    quot = x//y\n",
    "    rem = x%y\n",
    "    return quot, rem\n",
    "quot,rem = quot_and_rem(1,3)\n",
    "print(quot,rem)\n",
    "type(quot_and_rem(1,3))"
   ]
  },
  {
   "cell_type": "markdown",
   "id": "42cbe75b",
   "metadata": {},
   "source": [
    "#### list type과 tuple type간의 연동성"
   ]
  },
  {
   "cell_type": "code",
   "execution_count": 31,
   "id": "5aca3931",
   "metadata": {},
   "outputs": [
    {
     "data": {
      "text/plain": [
       "list"
      ]
     },
     "execution_count": 31,
     "metadata": {},
     "output_type": "execute_result"
    }
   ],
   "source": [
    "tuple_data = (1,2,3)\n",
    "list_data = list(tuple_data)\n",
    "type(list_data)"
   ]
  },
  {
   "cell_type": "code",
   "execution_count": 32,
   "id": "20f5fe67",
   "metadata": {},
   "outputs": [
    {
     "data": {
      "text/plain": [
       "tuple"
      ]
     },
     "execution_count": 32,
     "metadata": {},
     "output_type": "execute_result"
    }
   ],
   "source": [
    "tuple_data2 = tuple(list_data)\n",
    "type(tuple_data2)"
   ]
  },
  {
   "cell_type": "markdown",
   "id": "2d83a90c",
   "metadata": {},
   "source": [
    "## Dictionary(사전)\n",
    "=> Key:Value 형식의 Data Structure\n",
    "* 선언 : 변수명 = {요쇼} or dict()\n",
    "* 초기화 : 변수명 = { key : value }"
   ]
  },
  {
   "cell_type": "code",
   "execution_count": 33,
   "id": "512a9c28",
   "metadata": {},
   "outputs": [],
   "source": [
    "data_dict = dict() # {} "
   ]
  },
  {
   "cell_type": "code",
   "execution_count": 34,
   "id": "82ddc6f8",
   "metadata": {},
   "outputs": [],
   "source": [
    "data_dict = {'한국' : 'KR', '일본':'JP'}"
   ]
  },
  {
   "cell_type": "markdown",
   "id": "f7201734",
   "metadata": {},
   "source": [
    "data CRUD"
   ]
  },
  {
   "cell_type": "code",
   "execution_count": 35,
   "id": "71d58333",
   "metadata": {},
   "outputs": [],
   "source": [
    "data_dict['미국'] = 'US'"
   ]
  },
  {
   "cell_type": "code",
   "execution_count": 36,
   "id": "e8d76015",
   "metadata": {},
   "outputs": [
    {
     "name": "stdout",
     "output_type": "stream",
     "text": [
      "{'한국': 'KR', '일본': 'JP', '미국': 'US'}\n"
     ]
    }
   ],
   "source": [
    "print(data_dict)"
   ]
  },
  {
   "cell_type": "code",
   "execution_count": 37,
   "id": "d06ca88c",
   "metadata": {},
   "outputs": [],
   "source": [
    "del data_dict['일본']"
   ]
  },
  {
   "cell_type": "code",
   "execution_count": 38,
   "id": "b0db19e1",
   "metadata": {},
   "outputs": [
    {
     "name": "stdout",
     "output_type": "stream",
     "text": [
      "{'한국': 'KR', '미국': 'US'}\n"
     ]
    }
   ],
   "source": [
    "print(data_dict)"
   ]
  },
  {
   "cell_type": "code",
   "execution_count": 40,
   "id": "ad89d2d0",
   "metadata": {
    "scrolled": true
   },
   "outputs": [
    {
     "name": "stdout",
     "output_type": "stream",
     "text": [
      "{'한국': 'KO', '미국': 'US'}\n"
     ]
    }
   ],
   "source": [
    "data_dict['한국'] = 'KO'\n",
    "print(data_dict)"
   ]
  },
  {
   "cell_type": "markdown",
   "id": "43f261f9",
   "metadata": {},
   "source": [
    "### key과 value\n",
    "- Key Data : 변수명.keys()\n",
    "- Value Data : 변수명.values()"
   ]
  },
  {
   "cell_type": "code",
   "execution_count": 43,
   "id": "fc784b04",
   "metadata": {},
   "outputs": [
    {
     "name": "stdout",
     "output_type": "stream",
     "text": [
      "dict_keys(['한국', '미국'])\n",
      "한국\n",
      "미국\n"
     ]
    }
   ],
   "source": [
    "print(data_dict.keys())\n",
    "for key in data_dict.keys():\n",
    "    print(key)"
   ]
  },
  {
   "cell_type": "code",
   "execution_count": 45,
   "id": "f4b5d680",
   "metadata": {},
   "outputs": [
    {
     "name": "stdout",
     "output_type": "stream",
     "text": [
      "dict_values(['KO', 'US'])\n",
      "KO\n",
      "US\n"
     ]
    }
   ],
   "source": [
    "print(data_dict.values())\n",
    "for value in data_dict.values():\n",
    "    print(value)"
   ]
  },
  {
   "cell_type": "markdown",
   "id": "bbd5bafd",
   "metadata": {},
   "source": [
    "#### 전체 데이터의 출력\n",
    "- 변수명.items()\n",
    " * 요소별 list형식으로 출력된다"
   ]
  },
  {
   "cell_type": "code",
   "execution_count": 48,
   "id": "0a34ca60",
   "metadata": {},
   "outputs": [
    {
     "name": "stdout",
     "output_type": "stream",
     "text": [
      "dict_items([('한국', 'KO'), ('미국', 'US')])\n",
      "('한국', 'KO')\n",
      "('미국', 'US')\n"
     ]
    }
   ],
   "source": [
    "print(data_dict.items())\n",
    "for item in data_dict.items():\n",
    "    print(item)"
   ]
  },
  {
   "cell_type": "markdown",
   "id": "47e01fcf",
   "metadata": {},
   "source": [
    "### Set(집합)\n",
    ": 집합연산을 지원하는 Data tpye\n",
    "- 선언 : 변수명 = set() or {요쇼}\n",
    " * dict type과 겹치는 방식이기에 주의 요망\n",
    "- 순서, 중복 미포함"
   ]
  },
  {
   "cell_type": "code",
   "execution_count": 54,
   "id": "e0bac755",
   "metadata": {},
   "outputs": [
    {
     "data": {
      "text/plain": [
       "set"
      ]
     },
     "execution_count": 54,
     "metadata": {},
     "output_type": "execute_result"
    }
   ],
   "source": [
    "data_set = set()\n",
    "data_set1 = set('apple')\n",
    "type(data_set)"
   ]
  },
  {
   "cell_type": "code",
   "execution_count": 55,
   "id": "fdcc5d33",
   "metadata": {},
   "outputs": [
    {
     "name": "stdout",
     "output_type": "stream",
     "text": [
      "{'samsung', 'lg', 'apple', 'dell'}\n"
     ]
    }
   ],
   "source": [
    "data_set = {'apple', 'dell','samsung','lg'}\n",
    "data_set2 = set({'logitech','razer','zowie'})\n",
    "print(data_set)"
   ]
  },
  {
   "cell_type": "code",
   "execution_count": 56,
   "id": "94372c9d",
   "metadata": {},
   "outputs": [
    {
     "name": "stdout",
     "output_type": "stream",
     "text": [
      "{'zowie', 'logitech', 'razer'}\n"
     ]
    }
   ],
   "source": [
    "print(data_set2)"
   ]
  },
  {
   "cell_type": "code",
   "execution_count": 58,
   "id": "86ebc529",
   "metadata": {},
   "outputs": [
    {
     "name": "stdout",
     "output_type": "stream",
     "text": [
      "zowie\n",
      "logitech\n",
      "razer\n"
     ]
    }
   ],
   "source": [
    "for data in data_set2:\n",
    "    print(data)"
   ]
  },
  {
   "cell_type": "code",
   "execution_count": 59,
   "id": "cfd985da",
   "metadata": {
    "scrolled": true
   },
   "outputs": [
    {
     "data": {
      "text/plain": [
       "False"
      ]
     },
     "execution_count": 59,
     "metadata": {},
     "output_type": "execute_result"
    }
   ],
   "source": [
    "'zenics' in data_set2 # 데이터 포함 여부 반환"
   ]
  },
  {
   "cell_type": "markdown",
   "id": "b3bf414b",
   "metadata": {},
   "source": [
    "set의 집합연산"
   ]
  },
  {
   "cell_type": "code",
   "execution_count": 62,
   "id": "6fe481f6",
   "metadata": {},
   "outputs": [],
   "source": [
    "data1 = {'apple','samsung','lg'}\n",
    "data2 = {'samsung','lg','xaiomi'}"
   ]
  },
  {
   "cell_type": "code",
   "execution_count": 65,
   "id": "5d8a8342",
   "metadata": {},
   "outputs": [
    {
     "name": "stdout",
     "output_type": "stream",
     "text": [
      "{'samsung', 'lg'}\n",
      "{'xaiomi', 'samsung', 'lg', 'apple'}\n",
      "{'apple'}\n",
      "{'xaiomi', 'apple'}\n"
     ]
    }
   ],
   "source": [
    "print(data1 & data2) # 교집합\n",
    "print(data1 | data2) # 합집합\n",
    "print(data1 - data2) # 차집합\n",
    "print(data1 ^ data2)"
   ]
  },
  {
   "cell_type": "code",
   "execution_count": null,
   "id": "16e1f25d",
   "metadata": {},
   "outputs": [],
   "source": []
  }
 ],
 "metadata": {
  "kernelspec": {
   "display_name": "Python 3",
   "language": "python",
   "name": "python3"
  },
  "language_info": {
   "codemirror_mode": {
    "name": "ipython",
    "version": 3
   },
   "file_extension": ".py",
   "mimetype": "text/x-python",
   "name": "python",
   "nbconvert_exporter": "python",
   "pygments_lexer": "ipython3",
   "version": "3.8.8"
  }
 },
 "nbformat": 4,
 "nbformat_minor": 5
}
