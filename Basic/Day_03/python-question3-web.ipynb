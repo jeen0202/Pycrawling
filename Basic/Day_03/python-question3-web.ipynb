{
 "cells": [
  {
   "cell_type": "markdown",
   "metadata": {},
   "source": [
    "## 3. 문제를 풀며 빠르게 익숙해지는 파이썬 기본 프로그래밍3"
   ]
  },
  {
   "cell_type": "markdown",
   "metadata": {},
   "source": [
    "### Exercise 43. 문자열 다루기와 조건문\n",
    "* prices 변수에 100 ~ 999 달러 까지 입력될 때, 해당 값을 원 화로 바꿔서 계산하세요.\n",
    "\n",
    "```python\n",
    "prices = '100 달러'\n",
    "```\n",
    "\n",
    "* 환율은 다음과 같음\n",
    "<table>\n",
    "<thead>\n",
    "<tr>\n",
    "<th>통화단위</th>\n",
    "<th>원화 환율</th>\n",
    "</tr>\n",
    "</thead>\n",
    "<tbody>\n",
    "<tr>\n",
    "<td>달러</td>\n",
    "<td>1112</td>\n",
    "</tr>\n",
    "</tbody>\n",
    "</table>\n",
    "\n",
    "출력: <br>\n",
    "111200 원"
   ]
  },
  {
   "cell_type": "code",
   "execution_count": 7,
   "metadata": {},
   "outputs": [
    {
     "name": "stdout",
     "output_type": "stream",
     "text": [
      "111200 원\n"
     ]
    }
   ],
   "source": [
    "prices = '100 달러'\n",
    "values = int(prices.split(\" \")[0])\n",
    "nation = prices.split(\" \")[1]\n",
    "if values >=100 and values <=999:\n",
    "    print(f\"{values*1112} 원\")"
   ]
  },
  {
   "cell_type": "markdown",
   "metadata": {},
   "source": [
    "### Exercise 44. 문자열 다루기와 조건문\n",
    "* 사용자로부터 달러 또는 위안 금액을 입력받은 후 이를 원으로 바꿔서 계산하세요.\n",
    "  - 사용자는 100 ~ 999 달러, 100 ~ 999 위안 까지 입력 가능하고, 각 금액과 통화명 사이에 공백을 넣어 입력하기로 합니다.\n",
    "  - 각 통화별 환율은 다음과 같습니다.   \n",
    "<table>\n",
    "<thead>\n",
    "<tr>\n",
    "<th>통화단위</th>\n",
    "<th>원화 환율</th>\n",
    "</tr>\n",
    "</thead>\n",
    "<tbody>\n",
    "<tr>\n",
    "<td>달러</td>\n",
    "<td>1112</td>\n",
    "</tr>\n",
    "<tr>\n",
    "<td>위안</td>\n",
    "<td>171</td>\n",
    "</tr>\n",
    "</tbody>\n",
    "</table>\n",
    "\n",
    "\n",
    "출력: <br>\n",
    "111200 원"
   ]
  },
  {
   "cell_type": "code",
   "execution_count": 11,
   "metadata": {},
   "outputs": [
    {
     "name": "stdout",
     "output_type": "stream",
     "text": [
      "환율 확인 : 300 위안\n",
      "51300 원\n"
     ]
    }
   ],
   "source": [
    "prices = input(\"환율 확인 : \")\n",
    "values = int(prices.split(\" \")[0])\n",
    "nation = prices.split(\" \")[1]\n",
    "if values >=100 and values <=999:\n",
    "    if(nation == \"달러\") :\n",
    "        print(f\"{values*1112} 원\")\n",
    "    elif(nation == \"위안\") :\n",
    "        print(f\"{values*171} 원\")\n",
    "    else :\n",
    "        print(\"국가코드 오류\")\n",
    "else :\n",
    "    print(\"입력 범위 초과!!\")"
   ]
  },
  {
   "cell_type": "markdown",
   "metadata": {},
   "source": [
    "### Exercise 45. 문자열 다루기, 조건문, 데이터 구조 (dictionary)\n",
    "* 다음 통화별 환율을 통화단위와 원화 환율을 가진 딕셔너리로 만들고 사용자로부터 달러, 엔, 또는 위안 금액을 입력받은 후 이를 원으로 바꿔서 계산하세요.\n",
    "  - 사용자는 100 ~ 999 달러, 위안, 또는 엔 과 같이 금액과 통화명 사이에 공백을 넣어 입력하기로 합니다.\n",
    "<table>\n",
    "<thead>\n",
    "<tr>\n",
    "<th>통화단위</th>\n",
    "<th>원화 환율</th>\n",
    "</tr>\n",
    "</thead>\n",
    "<tbody>\n",
    "<tr>\n",
    "<td>달러</td>\n",
    "<td>1112</td>\n",
    "</tr>\n",
    "<tr>\n",
    "<td>위안</td>\n",
    "<td>171</td>\n",
    "</tr>\n",
    "<tr>\n",
    "<td>엔</td>\n",
    "<td>1010</td>\n",
    "</tr>\n",
    "</tbody>\n",
    "</table>\n"
   ]
  },
  {
   "cell_type": "code",
   "execution_count": 23,
   "metadata": {},
   "outputs": [
    {
     "name": "stdout",
     "output_type": "stream",
     "text": [
      "환율 확인 : 300 위안\n",
      "51300 원\n"
     ]
    }
   ],
   "source": [
    "nation_dict = {\"달러\":1112,\"위안\":171,\"엔\":1010}\n",
    "prices = input(\"환율 확인 : \")\n",
    "values = int(prices.split(\" \")[0])\n",
    "nation = prices.split(\" \")[1]\n",
    "if values >=100 and values <=999:\n",
    "    for data in nation_dict.keys():\n",
    "        if data == nation:\n",
    "            print(values*nation_dict[data],\"원\")\n",
    "else :\n",
    "    print(\"입력 범위 초과!!\")"
   ]
  },
  {
   "cell_type": "markdown",
   "metadata": {},
   "source": [
    "### Exercise 46. 이중 반복문\n",
    "* 구구단을 2단부터 9단까지 다음과 같이 출력하세요\n",
    "  - 출력 예\n",
    "<pre>\n",
    "2 X 1 = 2\n",
    "2 X 2 = 4\n",
    "2 X 3 = 6\n",
    "2 X 4 = 8\n",
    "2 X 5 = 10\n",
    "2 X 6 = 12\n",
    "2 X 7 = 14\n",
    "2 X 8 = 16\n",
    "2 X 9 = 18\n",
    "3 X 1 = 3\n",
    "3 X 2 = 6\n",
    ".\n",
    ".\n",
    ".\n",
    "9 X 7 = 63\n",
    "9 X 8 = 72\n",
    "9 X 9 = 81\n",
    "</pre>"
   ]
  },
  {
   "cell_type": "code",
   "execution_count": 25,
   "metadata": {
    "scrolled": true
   },
   "outputs": [
    {
     "name": "stdout",
     "output_type": "stream",
     "text": [
      "2 X 1 = 2\n",
      "2 X 2 = 4\n",
      "2 X 3 = 6\n",
      "2 X 4 = 8\n",
      "2 X 5 = 10\n",
      "2 X 6 = 12\n",
      "2 X 7 = 14\n",
      "2 X 8 = 16\n",
      "2 X 9 = 18\n",
      "3 X 1 = 3\n",
      "3 X 2 = 6\n",
      "3 X 3 = 9\n",
      "3 X 4 = 12\n",
      "3 X 5 = 15\n",
      "3 X 6 = 18\n",
      "3 X 7 = 21\n",
      "3 X 8 = 24\n",
      "3 X 9 = 27\n",
      "4 X 1 = 4\n",
      "4 X 2 = 8\n",
      "4 X 3 = 12\n",
      "4 X 4 = 16\n",
      "4 X 5 = 20\n",
      "4 X 6 = 24\n",
      "4 X 7 = 28\n",
      "4 X 8 = 32\n",
      "4 X 9 = 36\n",
      "5 X 1 = 5\n",
      "5 X 2 = 10\n",
      "5 X 3 = 15\n",
      "5 X 4 = 20\n",
      "5 X 5 = 25\n",
      "5 X 6 = 30\n",
      "5 X 7 = 35\n",
      "5 X 8 = 40\n",
      "5 X 9 = 45\n",
      "6 X 1 = 6\n",
      "6 X 2 = 12\n",
      "6 X 3 = 18\n",
      "6 X 4 = 24\n",
      "6 X 5 = 30\n",
      "6 X 6 = 36\n",
      "6 X 7 = 42\n",
      "6 X 8 = 48\n",
      "6 X 9 = 54\n",
      "7 X 1 = 7\n",
      "7 X 2 = 14\n",
      "7 X 3 = 21\n",
      "7 X 4 = 28\n",
      "7 X 5 = 35\n",
      "7 X 6 = 42\n",
      "7 X 7 = 49\n",
      "7 X 8 = 56\n",
      "7 X 9 = 63\n",
      "8 X 1 = 8\n",
      "8 X 2 = 16\n",
      "8 X 3 = 24\n",
      "8 X 4 = 32\n",
      "8 X 5 = 40\n",
      "8 X 6 = 48\n",
      "8 X 7 = 56\n",
      "8 X 8 = 64\n",
      "8 X 9 = 72\n",
      "9 X 1 = 9\n",
      "9 X 2 = 18\n",
      "9 X 3 = 27\n",
      "9 X 4 = 36\n",
      "9 X 5 = 45\n",
      "9 X 6 = 54\n",
      "9 X 7 = 63\n",
      "9 X 8 = 72\n",
      "9 X 9 = 81\n"
     ]
    }
   ],
   "source": [
    "for i in range(2,10) :\n",
    "    for j in range(1,10):\n",
    "        print(f\"{i} X {j} = {i*j}\")"
   ]
  },
  {
   "cell_type": "markdown",
   "metadata": {},
   "source": [
    "### Exercise 47. 이중 반복문과 조건문\n",
    "* 구구단을 2단부터 9단까지 출력하되, 계산 값이 짝수인 경우에만 출력하세요\n",
    "  - 예: 3 X 3 = 9 에서 9는 홀수이므로 출력하지 않는다.\n",
    "  - 예: 2 X 4 = 8 에서 8은 짝수이므로 출력한다.\n",
    "  - 최종 출력 예\n",
    "<pre>\n",
    "2 X 2 = 4\n",
    "2 X 3 = 6\n",
    "2 X 4 = 8\n",
    "2 X 5 = 10\n",
    "2 X 6 = 12\n",
    "2 X 7 = 14\n",
    "2 X 8 = 16\n",
    "2 X 9 = 18\n",
    "3 X 2 = 6\n",
    "3 X 4 = 12\n",
    "3 X 6 = 18\n",
    "3 X 8 = 24\n",
    "4 X 2 = 8\n",
    "4 X 3 = 12\n",
    "4 X 4 = 16\n",
    "4 X 5 = 20\n",
    "4 X 6 = 24\n",
    "4 X 7 = 28\n",
    "4 X 8 = 32\n",
    "4 X 9 = 36\n",
    "5 X 2 = 10\n",
    "5 X 4 = 20\n",
    "5 X 6 = 30\n",
    "5 X 8 = 40\n",
    "6 X 2 = 12\n",
    "6 X 3 = 18\n",
    "6 X 4 = 24\n",
    "6 X 5 = 30\n",
    "6 X 6 = 36\n",
    "6 X 7 = 42\n",
    "6 X 8 = 48\n",
    "6 X 9 = 54\n",
    "7 X 2 = 14\n",
    "7 X 4 = 28\n",
    "7 X 6 = 42\n",
    "7 X 8 = 56\n",
    "8 X 2 = 16\n",
    "8 X 3 = 24\n",
    "8 X 4 = 32\n",
    "8 X 5 = 40\n",
    "8 X 6 = 48\n",
    "8 X 7 = 56\n",
    "8 X 8 = 64\n",
    "8 X 9 = 72\n",
    "9 X 2 = 18\n",
    "9 X 4 = 36\n",
    "9 X 6 = 54\n",
    "9 X 8 = 72\n",
    "</pre>"
   ]
  },
  {
   "cell_type": "code",
   "execution_count": 26,
   "metadata": {
    "scrolled": true
   },
   "outputs": [
    {
     "name": "stdout",
     "output_type": "stream",
     "text": [
      "2 X 1 = 2\n",
      "2 X 2 = 4\n",
      "2 X 3 = 6\n",
      "2 X 4 = 8\n",
      "2 X 5 = 10\n",
      "2 X 6 = 12\n",
      "2 X 7 = 14\n",
      "2 X 8 = 16\n",
      "2 X 9 = 18\n",
      "3 X 2 = 6\n",
      "3 X 4 = 12\n",
      "3 X 6 = 18\n",
      "3 X 8 = 24\n",
      "4 X 1 = 4\n",
      "4 X 2 = 8\n",
      "4 X 3 = 12\n",
      "4 X 4 = 16\n",
      "4 X 5 = 20\n",
      "4 X 6 = 24\n",
      "4 X 7 = 28\n",
      "4 X 8 = 32\n",
      "4 X 9 = 36\n",
      "5 X 2 = 10\n",
      "5 X 4 = 20\n",
      "5 X 6 = 30\n",
      "5 X 8 = 40\n",
      "6 X 1 = 6\n",
      "6 X 2 = 12\n",
      "6 X 3 = 18\n",
      "6 X 4 = 24\n",
      "6 X 5 = 30\n",
      "6 X 6 = 36\n",
      "6 X 7 = 42\n",
      "6 X 8 = 48\n",
      "6 X 9 = 54\n",
      "7 X 2 = 14\n",
      "7 X 4 = 28\n",
      "7 X 6 = 42\n",
      "7 X 8 = 56\n",
      "8 X 1 = 8\n",
      "8 X 2 = 16\n",
      "8 X 3 = 24\n",
      "8 X 4 = 32\n",
      "8 X 5 = 40\n",
      "8 X 6 = 48\n",
      "8 X 7 = 56\n",
      "8 X 8 = 64\n",
      "8 X 9 = 72\n",
      "9 X 2 = 18\n",
      "9 X 4 = 36\n",
      "9 X 6 = 54\n",
      "9 X 8 = 72\n"
     ]
    }
   ],
   "source": [
    "for i in range(2,10) :\n",
    "    for j in range(1,10):\n",
    "        if i*j%2==0 :\n",
    "            print(f\"{i} X {j} = {i*j}\")"
   ]
  },
  {
   "cell_type": "markdown",
   "metadata": {},
   "source": [
    "### Exercise 48. 이중 반복문과 데이터 구조 (리스트)\n",
    "* 아파트 동호수를 다음과 같은 두 리스트 변수를 활용해서 출력하세요.\n",
    "  - 단, 각 동과 동 사이에는 구분이 되도록 한 라인씩 띄워서 출력하세요\n",
    "\n",
    "<pre>\n",
    "dongs = [\"6209동\", \"6208동\", \"6207동\"]\n",
    "hos = [\"101호\", \"102호\", \"103호\", \"104호\"]\n",
    "</pre>\n",
    "\n",
    "  - 출력 예:\n",
    "<pre>\n",
    "6209동 101호\n",
    "6209동 102호\n",
    "6209동 103호\n",
    "6209동 104호\n",
    "</pre>\n",
    "<pre>\n",
    "6208동 101호\n",
    "6208동 102호\n",
    "6208동 103호\n",
    "6208동 104호\n",
    "</pre>\n",
    "<pre>\n",
    "6207동 101호\n",
    "6207동 102호\n",
    "6207동 103호\n",
    "6207동 104호\n",
    "</pre>"
   ]
  },
  {
   "cell_type": "code",
   "execution_count": 29,
   "metadata": {
    "collapsed": true
   },
   "outputs": [
    {
     "name": "stdout",
     "output_type": "stream",
     "text": [
      "6209동 101호\n",
      "6209동 102호\n",
      "6209동 103호\n",
      "6209동 104호\n",
      "\n",
      "\n",
      "6208동 101호\n",
      "6208동 102호\n",
      "6208동 103호\n",
      "6208동 104호\n",
      "\n",
      "\n",
      "6207동 101호\n",
      "6207동 102호\n",
      "6207동 103호\n",
      "6207동 104호\n",
      "\n",
      "\n"
     ]
    }
   ],
   "source": [
    "dongs = [\"6209동\", \"6208동\", \"6207동\"]\n",
    "hos = [\"101호\", \"102호\", \"103호\", \"104호\"]\n",
    "for dong in dongs :\n",
    "    for ho in hos :\n",
    "        print(dong, ho)\n",
    "    print(\"\\n\")"
   ]
  }
 ],
 "metadata": {
  "kernelspec": {
   "display_name": "Python 3",
   "language": "python",
   "name": "python3"
  },
  "language_info": {
   "codemirror_mode": {
    "name": "ipython",
    "version": 3
   },
   "file_extension": ".py",
   "mimetype": "text/x-python",
   "name": "python",
   "nbconvert_exporter": "python",
   "pygments_lexer": "ipython3",
   "version": "3.8.8"
  },
  "nbTranslate": {
   "displayLangs": [
    "*"
   ],
   "hotkey": "alt-t",
   "langInMainMenu": true,
   "sourceLang": "en",
   "targetLang": "fr",
   "useGoogleTranslate": true
  }
 },
 "nbformat": 4,
 "nbformat_minor": 2
}
