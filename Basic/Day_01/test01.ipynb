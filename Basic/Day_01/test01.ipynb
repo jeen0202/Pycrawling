{
 "cells": [
  {
   "cell_type": "code",
   "execution_count": 7,
   "id": "9cad73df",
   "metadata": {},
   "outputs": [
    {
     "name": "stdout",
     "output_type": "stream",
     "text": [
      "Hello world\n"
     ]
    }
   ],
   "source": [
    "print (\"Hello world\")"
   ]
  },
  {
   "cell_type": "code",
   "execution_count": 8,
   "id": "0eececbe",
   "metadata": {},
   "outputs": [
    {
     "name": "stdout",
     "output_type": "stream",
     "text": [
      "너는 뭐해 \n"
     ]
    }
   ],
   "source": [
    "print ('''너는 뭐해 ''')"
   ]
  },
  {
   "cell_type": "code",
   "execution_count": 12,
   "id": "f15bdcec",
   "metadata": {},
   "outputs": [
    {
     "name": "stdout",
     "output_type": "stream",
     "text": [
      "9\n",
      "27\n",
      "4\n",
      "0\n"
     ]
    }
   ],
   "source": [
    "print ((1+2)*3)\n",
    "print ((3 **3)) # 지수표현 \n",
    "print ((8//2)) # 몫\n",
    "print ((8%2)) # 나머지"
   ]
  },
  {
   "cell_type": "code",
   "execution_count": 13,
   "id": "9c5cdbfd",
   "metadata": {},
   "outputs": [
    {
     "name": "stdout",
     "output_type": "stream",
     "text": [
      "Hello World\n"
     ]
    }
   ],
   "source": [
    "print (\"Hello World\")"
   ]
  },
  {
   "cell_type": "code",
   "execution_count": 14,
   "id": "63c6c418",
   "metadata": {},
   "outputs": [
    {
     "name": "stdout",
     "output_type": "stream",
     "text": [
      "I don't like C language\n"
     ]
    }
   ],
   "source": [
    "print (\"I don't like C language\")"
   ]
  },
  {
   "cell_type": "markdown",
   "id": "9cbaa6aa",
   "metadata": {},
   "source": [
    "# 변수 (Variable)"
   ]
  },
  {
   "cell_type": "markdown",
   "id": "78f8a1b2",
   "metadata": {},
   "source": [
    "-Python에서는 Datatype의 표현은 필요 없다."
   ]
  },
  {
   "cell_type": "markdown",
   "id": "a1725961",
   "metadata": {},
   "source": [
    "### Python의 대표 변수형 4개"
   ]
  },
  {
   "cell_type": "code",
   "execution_count": 17,
   "id": "4be97767",
   "metadata": {},
   "outputs": [
    {
     "name": "stdout",
     "output_type": "stream",
     "text": [
      "hello 1 1.1 True\n"
     ]
    }
   ],
   "source": [
    "str_data = \"hello\" #문자열\n",
    "int_data = 1 # 정수\n",
    "float_data = 1.1 # 실수\n",
    "bool_data = True # Boolean \n",
    "\n",
    "print(str_data, int_data, float_data, bool_data)"
   ]
  },
  {
   "cell_type": "code",
   "execution_count": 19,
   "id": "ce4f08ef",
   "metadata": {},
   "outputs": [],
   "source": [
    "digit1 = 1\n",
    "digit2 = 10\n",
    "name = \"Dave\"\n",
    "age= 14"
   ]
  },
  {
   "cell_type": "code",
   "execution_count": 21,
   "id": "7b0226ae",
   "metadata": {
    "scrolled": true
   },
   "outputs": [
    {
     "name": "stdout",
     "output_type": "stream",
     "text": [
      "10\n"
     ]
    }
   ],
   "source": [
    "print(digit1* digit2)"
   ]
  },
  {
   "cell_type": "markdown",
   "id": "3ad47a19",
   "metadata": {},
   "source": [
    "##### Bool Type"
   ]
  },
  {
   "cell_type": "code",
   "execution_count": 22,
   "id": "f288b29b",
   "metadata": {},
   "outputs": [],
   "source": [
    "num = True"
   ]
  },
  {
   "cell_type": "code",
   "execution_count": 28,
   "id": "0c9fa798",
   "metadata": {},
   "outputs": [
    {
     "name": "stdout",
     "output_type": "stream",
     "text": [
      "False\n",
      "True\n",
      "False\n",
      "True\n"
     ]
    }
   ],
   "source": [
    "print(not num)\n",
    "print(7>3)\n",
    "print(digit1==digit2)\n",
    "print(32 != 40)"
   ]
  },
  {
   "cell_type": "code",
   "execution_count": 53,
   "id": "db5bcf17",
   "metadata": {},
   "outputs": [
    {
     "name": "stdout",
     "output_type": "stream",
     "text": [
      "num : 10 \n",
      "num : 10 num* 10 : 100\n",
      "num : 10\n",
      "num : 10, num*10 : 100\n",
      "num : 10, num*10 : 100\n"
     ]
    }
   ],
   "source": [
    "num = 10\n",
    "print ('num : %d '% num) # c타입 변수 출력\n",
    "print ('num : %d num* 10 : %d'%(num,num*10))\n",
    "print ('num : {}'.format(num)) # formatting\n",
    "print (\"num : {}, num*10 : {}\".format(num,num*10))\n",
    "print (f'num : {num}, num*10 : {num*10}') # F타입 formatting"
   ]
  },
  {
   "cell_type": "markdown",
   "id": "3223c07a",
   "metadata": {},
   "source": [
    "### Small Project"
   ]
  },
  {
   "cell_type": "code",
   "execution_count": 58,
   "id": "e696dba1",
   "metadata": {},
   "outputs": [
    {
     "name": "stdout",
     "output_type": "stream",
     "text": [
      "지름 : 20 , 둘레 : 62.83184 , 넓이 : 628.3184 \n"
     ]
    }
   ],
   "source": [
    "r = 10\n",
    "pi = 3.141592\n",
    "print(f'지름 : {2*r} , 둘레 : {2*r*pi} , 넓이 : {2*pi*r**2} ')\n"
   ]
  },
  {
   "cell_type": "code",
   "execution_count": 59,
   "id": "3c66fe8b",
   "metadata": {},
   "outputs": [
    {
     "name": "stdout",
     "output_type": "stream",
     "text": [
      "hi\n"
     ]
    }
   ],
   "source": [
    "name = input()"
   ]
  },
  {
   "cell_type": "code",
   "execution_count": 60,
   "id": "677de670",
   "metadata": {},
   "outputs": [
    {
     "name": "stdout",
     "output_type": "stream",
     "text": [
      "hi\n"
     ]
    }
   ],
   "source": [
    "print(name)"
   ]
  },
  {
   "cell_type": "code",
   "execution_count": 61,
   "id": "e4f47f83",
   "metadata": {},
   "outputs": [
    {
     "name": "stdout",
     "output_type": "stream",
     "text": [
      "what's your name sejing\n",
      "sejing\n"
     ]
    }
   ],
   "source": [
    "name =input('''what's your name ''')\n",
    "print(name)"
   ]
  },
  {
   "cell_type": "code",
   "execution_count": null,
   "id": "695ec497",
   "metadata": {},
   "outputs": [],
   "source": []
  }
 ],
 "metadata": {
  "kernelspec": {
   "display_name": "Python 3",
   "language": "python",
   "name": "python3"
  },
  "language_info": {
   "codemirror_mode": {
    "name": "ipython",
    "version": 3
   },
   "file_extension": ".py",
   "mimetype": "text/x-python",
   "name": "python",
   "nbconvert_exporter": "python",
   "pygments_lexer": "ipython3",
   "version": "3.8.8"
  }
 },
 "nbformat": 4,
 "nbformat_minor": 5
}
