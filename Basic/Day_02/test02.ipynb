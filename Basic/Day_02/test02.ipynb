{
 "cells": [
  {
   "cell_type": "markdown",
   "id": "8f88bcb4",
   "metadata": {},
   "source": [
    "### 조건문\n",
    "- python에서의 조건문 IF\n",
    "~~~    \n",
    "if 조건 :\n",
    "    실행문1 (조건이 만족할때)\n",
    "if 조건1 and 조건2 :\n",
    "    실행문2 (모든 조건이 만족할때)\n",
    "if 조건1 or 조건2 :\n",
    "    실행문3 (하나의 조건이라도 만족할떄\n",
    "if not 조건 :\n",
    "    실행문4(조건을 만족하지 않을때)\n",
    "~~~"
   ]
  },
  {
   "cell_type": "code",
   "execution_count": 6,
   "id": "fd6a77b5",
   "metadata": {},
   "outputs": [
    {
     "name": "stdout",
     "output_type": "stream",
     "text": [
      "나이는?30\n",
      "당신은 성인입니다.\n"
     ]
    }
   ],
   "source": [
    "age = input(\"나이는?\")\n",
    "age_digit = int(age)\n",
    "if age_digit>19:\n",
    "    print(\"당신은 성인입니다.\")"
   ]
  },
  {
   "cell_type": "code",
   "execution_count": 9,
   "id": "b6537fa6",
   "metadata": {},
   "outputs": [
    {
     "name": "stdout",
     "output_type": "stream",
     "text": [
      "철수의 나이는? 20\n",
      "영희의 나이는? 20\n",
      "모두 성인\n"
     ]
    }
   ],
   "source": [
    "age1 = int(input(\"철수의 나이는? \"))\n",
    "age2 = int(input(\"영희의 나이는? \"))\n",
    "\n",
    "if age1>=19 and age2>=19 :\n",
    "    print(\"모두 성인\")"
   ]
  },
  {
   "cell_type": "markdown",
   "id": "c9b1d1fe",
   "metadata": {},
   "source": [
    "##### IF~ELIF\n",
    "~~~\n",
    "if 조건1 :\n",
    "    실행문1(조건1을 만족할때)\n",
    "elif 조건2 :\n",
    "    실행문2(조건1을 만족하지 않고 조건2를 만족할때)\n",
    "else :\n",
    "    실행문3(모든 조건을 만족하지 않을때)\n",
    "~~~"
   ]
  },
  {
   "cell_type": "code",
   "execution_count": 12,
   "id": "f8d95a14",
   "metadata": {},
   "outputs": [
    {
     "name": "stdout",
     "output_type": "stream",
     "text": [
      "나이는?19\n",
      "성인\n"
     ]
    }
   ],
   "source": [
    "age = int(input(\"나이는?\"))\n",
    "if age >=19:\n",
    "    print(\"성인\")\n",
    "elif age >=13 and age<19 :\n",
    "    print(\"청소년\")\n",
    "else :\n",
    "    print(\"어린이\")"
   ]
  },
  {
   "cell_type": "markdown",
   "id": "830849ce",
   "metadata": {},
   "source": [
    "#### 다중 조건문"
   ]
  },
  {
   "cell_type": "code",
   "execution_count": 20,
   "id": "670c0e6e",
   "metadata": {},
   "outputs": [
    {
     "name": "stdout",
     "output_type": "stream",
     "text": [
      "얼마있니?40000\n",
      "집에가자\n"
     ]
    }
   ],
   "source": [
    "cash = int(input(\"얼마있니?\"))\n",
    "if cash >100000 :\n",
    "    print(\"소고기먹자\")\n",
    "else :\n",
    "    if cash > 50000 :\n",
    "        print(\"간단하게 먹자\")\n",
    "        if cash > 70000 :\n",
    "            print(\"라멘먹자\")\n",
    "        elif cash > 60000 :\n",
    "            print(\"국밥먹자\")\n",
    "    else :\n",
    "        print(\"집에가자\")"
   ]
  },
  {
   "cell_type": "code",
   "execution_count": null,
   "id": "75a6fe1c",
   "metadata": {},
   "outputs": [],
   "source": []
  },
  {
   "cell_type": "code",
   "execution_count": null,
   "id": "9740e9a3",
   "metadata": {},
   "outputs": [],
   "source": []
  }
 ],
 "metadata": {
  "kernelspec": {
   "display_name": "Python 3",
   "language": "python",
   "name": "python3"
  },
  "language_info": {
   "codemirror_mode": {
    "name": "ipython",
    "version": 3
   },
   "file_extension": ".py",
   "mimetype": "text/x-python",
   "name": "python",
   "nbconvert_exporter": "python",
   "pygments_lexer": "ipython3",
   "version": "3.8.8"
  }
 },
 "nbformat": 4,
 "nbformat_minor": 5
}
