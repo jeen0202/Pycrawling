{
 "cells": [
  {
   "cell_type": "code",
   "execution_count": null,
   "id": "6fe60a82",
   "metadata": {},
   "outputs": [],
   "source": [
    "client_key = '5L5VR7SortVWqySji0tE'\n",
    "client_seceret = 'DJnPG7dJH4'\n",
    "return client_key,client_seceret"
   ]
  }
 ],
 "metadata": {
  "kernelspec": {
   "display_name": "Python 3",
   "language": "python",
   "name": "python3"
  },
  "language_info": {
   "codemirror_mode": {
    "name": "ipython",
    "version": 3
   },
   "file_extension": ".py",
   "mimetype": "text/x-python",
   "name": "python",
   "nbconvert_exporter": "python",
   "pygments_lexer": "ipython3",
   "version": "3.8.8"
  }
 },
 "nbformat": 4,
 "nbformat_minor": 5
}
